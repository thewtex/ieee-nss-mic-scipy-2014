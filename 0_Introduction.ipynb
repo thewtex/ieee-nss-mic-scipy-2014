{
 "metadata": {
  "celltoolbar": "Slideshow",
  "kernelspec": {
   "codemirror_mode": {
    "name": "ipython",
    "version": 2
   },
   "display_name": "IPython (Python 2)",
   "language": "python",
   "name": "python2"
  },
  "name": "",
  "signature": "sha256:9d99f05154a602afc4d8c8efb54a1e5aac2cea0aa51b369d96a72fd8b9bd1cb1"
 },
 "nbformat": 3,
 "nbformat_minor": 0,
 "worksheets": [
  {
   "cells": [
    {
     "cell_type": "heading",
     "level": 1,
     "metadata": {
      "internals": {
       "slide_type": "subslide"
      },
      "slideshow": {
       "slide_type": "slide"
      }
     },
     "source": [
      "Modern Scientific Computing with Python"
     ]
    },
    {
     "cell_type": "heading",
     "level": 2,
     "metadata": {
      "internals": {},
      "slideshow": {
       "slide_type": "-"
      }
     },
     "source": [
      "Course at IEEE Nuclear Science Symposium and Medical Imaging Conference"
     ]
    },
    {
     "cell_type": "markdown",
     "metadata": {
      "internals": {
       "slide_helper": "subslide_end"
      },
      "slide_helper": "subslide_end",
      "slideshow": {
       "slide_type": "-"
      }
     },
     "source": [
      "> 2014-11-12\n",
      "\n",
      "> Matt McCormick <matt.mccormick@kitware.com>"
     ]
    },
    {
     "cell_type": "markdown",
     "metadata": {
      "internals": {
       "slide_type": "subslide"
      },
      "slideshow": {
       "slide_type": "subslide"
      }
     },
     "source": [
      "<img src=\"images/cropped-headerblack.png\" width=\"800\">\n",
      "\n",
      "Python is an increasingly popular scientific computing programming language,\n",
      "offering an **easy-to-learn**, **versatile** interface that **glues together** work from\n",
      "many other languages well. Furthermore, it is supported by a **vibrant open\n",
      "source community**. \n"
     ]
    },
    {
     "cell_type": "markdown",
     "metadata": {
      "internals": {
       "slide_helper": "subslide_end"
      },
      "slide_helper": "subslide_end",
      "slideshow": {
       "slide_type": "notes"
      }
     },
     "source": [
      "Image credits: http://pyscience.wordpress.com/"
     ]
    },
    {
     "cell_type": "markdown",
     "metadata": {
      "internals": {
       "slide_type": "subslide"
      },
      "slideshow": {
       "slide_type": "subslide"
      }
     },
     "source": [
      "<img src=\"images/optimizing-what.png\" width=\"600\">\n",
      "\n",
      "While the Python standard library is often touted for being\n",
      "\u201cbatteries-included\u201d, the scientific Python environment is even richer, with\n",
      "many powerful tools and packages to enhance the scientific computing workflow.\n",
      "\n",
      "In this one-hour course, we will **introduce and refresh participants to modern\n",
      "Pythonic practices** from the perspective of a researcher with a C or C++\n",
      "background.\n"
     ]
    },
    {
     "cell_type": "markdown",
     "metadata": {
      "internals": {},
      "slideshow": {
       "slide_type": "notes"
      }
     },
     "source": [
      "Image credits: http://nbviewer.ipython.org/github/jrjohansson/scientific-python-lectures/blob/master/Lecture-6A-Fortran-and-C.ipynb"
     ]
    },
    {
     "cell_type": "markdown",
     "metadata": {
      "internals": {
       "slide_helper": "subslide_end"
      },
      "slide_helper": "subslide_end",
      "slideshow": {
       "slide_type": "notes"
      }
     },
     "source": [
      "Image credits: http://nbviewer.ipython.org/github/jrjohansson/scientific-python-lectures/blob/master/Lecture-0-Scientific-Computing-with-Python.ipynb"
     ]
    },
    {
     "cell_type": "markdown",
     "metadata": {
      "internals": {
       "slide_helper": "subslide_end",
       "slide_type": "subslide"
      },
      "slide_helper": "slide_end",
      "slideshow": {
       "slide_type": "subslide"
      }
     },
     "source": [
      "This contents computational environment, code, and data to run this course and available on the distributed USB flash drives and [on GitHub](https://github.com/thewtex/ieee-nss-mic-scipy-2014). See the **README** file in the root directory for directions on how to run the notebooks. \n",
      "\n",
      "<img src=\"images/usb_drives.jpg\">\n",
      "\n",
      "Please copy the contents of the USB flash drive and *return the drive* :-)."
     ]
    }
   ],
   "metadata": {}
  }
 ]
}