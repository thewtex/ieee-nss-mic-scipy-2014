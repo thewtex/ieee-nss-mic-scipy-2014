{
 "metadata": {
  "celltoolbar": "Slideshow",
  "kernelspec": {
   "codemirror_mode": {
    "name": "ipython",
    "version": 2
   },
   "display_name": "IPython (Python 2)",
   "language": "python",
   "name": "python2"
  },
  "name": "",
  "signature": "sha256:01459c725d36be479cf36ecca32ae618fbe571b38bb14f21d4c81caeef65ac43"
 },
 "nbformat": 3,
 "nbformat_minor": 0,
 "worksheets": [
  {
   "cells": [
    {
     "cell_type": "code",
     "collapsed": false,
     "input": [],
     "language": "python",
     "metadata": {
      "internals": {
       "slide_helper": "subslide_end",
       "slide_type": "subslide"
      },
      "slide_helper": "slide_end",
      "slideshow": {
       "slide_type": "slide"
      }
     },
     "outputs": []
    },
    {
     "cell_type": "heading",
     "level": 1,
     "metadata": {
      "internals": {
       "slide_helper": "subslide_end",
       "slide_type": "subslide"
      },
      "slide_helper": "subslide_end",
      "slideshow": {
       "slide_type": "slide"
      }
     },
     "source": [
      "Outro"
     ]
    },
    {
     "cell_type": "heading",
     "level": 2,
     "metadata": {
      "internals": {
       "slide_helper": "subslide_end",
       "slide_type": "subslide"
      },
      "slide_helper": "subslide_end",
      "slideshow": {
       "slide_type": "subslide"
      }
     },
     "source": [
      "Outline"
     ]
    },
    {
     "cell_type": "markdown",
     "metadata": {
      "internals": {
       "slide_type": "subslide"
      },
      "slideshow": {
       "slide_type": "subslide"
      }
     },
     "source": [
      "1) Creating a reproducible computational environment with Docker.\n"
     ]
    },
    {
     "cell_type": "markdown",
     "metadata": {
      "internals": {},
      "slideshow": {
       "slide_type": "fragment"
      }
     },
     "source": [
      "2) Interactive analysis and literate programming with the IPython notebook."
     ]
    },
    {
     "cell_type": "markdown",
     "metadata": {
      "internals": {},
      "slideshow": {
       "slide_type": "fragment"
      }
     },
     "source": [
      "3) A brief survey of the fundamental scientific Python packages: numpy, matplotlib, scipy, sympy, pandas, nose."
     ]
    },
    {
     "cell_type": "markdown",
     "metadata": {
      "internals": {},
      "slideshow": {
       "slide_type": "fragment"
      }
     },
     "source": [
      "4) Writing efficient, compiled C/Python hybrid code with Cython."
     ]
    },
    {
     "cell_type": "markdown",
     "metadata": {
      "internals": {},
      "slideshow": {
       "slide_type": "fragment"
      }
     },
     "source": [
      "5) Wrapping C and C++ libraries in python with XDress."
     ]
    },
    {
     "cell_type": "heading",
     "level": 2,
     "metadata": {
      "internals": {},
      "slideshow": {
       "slide_type": "slide"
      }
     },
     "source": [
      "About Me"
     ]
    },
    {
     "cell_type": "markdown",
     "metadata": {
      "internals": {},
      "slideshow": {
       "slide_type": "-"
      }
     },
     "source": []
    },
    {
     "cell_type": "heading",
     "level": 2,
     "metadata": {
      "internals": {
       "slide_helper": "subslide_end"
      },
      "slide_helper": "slide_end",
      "slideshow": {
       "slide_type": "slide"
      }
     },
     "source": [
      "Credits"
     ]
    },
    {
     "cell_type": "markdown",
     "metadata": {},
     "source": [
      "Many of the content provided here is borrowed directly from these outstanding series:\n",
      "\n",
      "* [J.R. Johansson's Scientific Python Lectures](http://github.com/jrjohansson/scientific-python-lectures)\n",
      "* [IPython Cookbook by Cyrille Rossant](https://ipython-books.github.io/cookbook/)\n",
      "* [IPython Minibook by Cyrille Rossant](https://ipython-books.github.io/minibook/)\n",
      "\n",
      "Thanks to the wonderful SciPy community!\n",
      "\n",
      "<img src=\"images/scipy_world.jpg\" width=\"300\">\n"
     ]
    }
   ],
   "metadata": {}
  }
 ]
}