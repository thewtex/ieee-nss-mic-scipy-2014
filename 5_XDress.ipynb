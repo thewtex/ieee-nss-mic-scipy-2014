{
 "metadata": {
  "kernelspec": {
   "codemirror_mode": {
    "name": "ipython",
    "version": 2
   },
   "display_name": "IPython (Python 2)",
   "language": "python",
   "name": "python2"
  },
  "name": "",
  "signature": "sha256:dac0e921d9adb851fcf5e7280b41486cbdc214727d9234580a3e553d0f06429d"
 },
 "nbformat": 3,
 "nbformat_minor": 0,
 "worksheets": [
  {
   "cells": [
    {
     "cell_type": "heading",
     "level": 1,
     "metadata": {
      "internals": {
       "slide_type": "subslide"
      },
      "slideshow": {
       "slide_type": "slide"
      }
     },
     "source": [
      "XDress"
     ]
    },
    {
     "cell_type": "markdown",
     "metadata": {
      "internals": {
       "slide_helper": "subslide_end"
      },
      "slide_helper": "slide_end",
      "slideshow": {
       "slide_type": "notes"
      }
     },
     "source": [
      "Derived from:\n",
      "\n",
      "<div style=\"text-align:center\"><h1>XDress - Idiomatic, Automatic Wrapper Generation</h1>\n",
      "<div style=\"text-align:center\"><img style=\"margin:auto\" src=\"thief.jpg\" /></div>\n",
      "<h2>Kitware</h2>\n",
      "</div>\n",
      "<div style=\"text-align:center\">Anthony Michael Scopatz</div>\n",
      "<div style=\"text-align:center\">The University of Wisconsin-Madison, Numfocus</div>\n",
      "<div style=\"text-align:center\">Clifton Park, August 20th, 2014</div>"
     ]
    },
    {
     "cell_type": "markdown",
     "metadata": {
      "internals": {
       "slide_type": "subslide"
      },
      "slideshow": {
       "slide_type": "slide"
      }
     },
     "source": [
      "## The Big Idea\n",
      "\n",
      "* Xdress is an idiomatic, automatic Python wrapping tool for C and C++ libraries.\n",
      "\n",
      "* At its core, xdress is a suite of code generation routines built on top of a dynamic type system."
     ]
    },
    {
     "cell_type": "markdown",
     "metadata": {
      "internals": {
       "frag_number": 3
      },
      "slideshow": {
       "slide_type": "fragment"
      }
     },
     "source": [
      "* The interface that is created should be beautiful, or at least not ugly."
     ]
    },
    {
     "cell_type": "markdown",
     "metadata": {
      "internals": {
       "frag_helper": "fragment_end",
       "frag_number": 4,
       "slide_helper": "subslide_end"
      },
      "slide_helper": "slide_end",
      "slideshow": {
       "slide_type": "fragment"
      }
     },
     "source": [
      "## Motivation\n",
      "\n",
      "* First class C++ support\n",
      "* Deep access to the type system\n",
      "* A multitude of target languages"
     ]
    },
    {
     "cell_type": "markdown",
     "metadata": {
      "internals": {
       "frag_helper": "fragment_end",
       "frag_number": 4,
       "slide_type": "subslide"
      },
      "slideshow": {
       "slide_type": "slide"
      }
     },
     "source": [
      "## What XDress Is"
     ]
    },
    {
     "cell_type": "markdown",
     "metadata": {
      "internals": {
       "frag_helper": "fragment_end",
       "frag_number": 4
      },
      "slideshow": {
       "slide_type": "skip"
      }
     },
     "source": [
      "Created via [this link](http://interactive.blockdiag.com/?compression=deflate&src=eJyr5lJQUHIM8FRwy8xLSS1SUoguLqnMSVWwVUhJLM5ITYm1BioISCwqTi0qVtC1Q1UL5geHKIRlFmeW5EMFnPNTUhXcU_NSixKBYsVK1ly1AOqXHj4)."
     ]
    },
    {
     "cell_type": "markdown",
     "metadata": {
      "internals": {
       "frag_helper": "fragment_end",
       "frag_number": 4
      },
      "slideshow": {
       "slide_type": "-"
      }
     },
     "source": [
      "<div style=\"text-align:center;\"><img src=\"images/workflow.svg\" width=\"1100\" /></div>"
     ]
    },
    {
     "cell_type": "markdown",
     "metadata": {
      "internals": {
       "frag_helper": "fragment_end",
       "frag_number": 8,
       "slide_helper": "subslide_end"
      },
      "slide_helper": "slide_end",
      "slideshow": {
       "slide_type": "fragment"
      }
     },
     "source": [
      "## What XDress Is Not\n",
      "\n",
      "* **Parser**\n",
      "* **Compiler**\n",
      "* **Build System**"
     ]
    },
    {
     "cell_type": "markdown",
     "metadata": {
      "internals": {
       "frag_helper": "fragment_end",
       "frag_number": 8,
       "slide_type": "subslide"
      },
      "slideshow": {
       "slide_type": "slide"
      }
     },
     "source": [
      "## Parsers\n",
      "\n",
      "Parsing is worse than hard, it is annoying!"
     ]
    },
    {
     "cell_type": "markdown",
     "metadata": {
      "internals": {
       "frag_helper": "fragment_end",
       "frag_number": 10
      },
      "slideshow": {
       "slide_type": "fragment"
      }
     },
     "source": [
      "XDress completely outsources the task of parsing source code to other projects. It mostly outsources the syntax tree too."
     ]
    },
    {
     "cell_type": "markdown",
     "metadata": {
      "internals": {
       "frag_helper": "fragment_end",
       "frag_number": 11
      },
      "slideshow": {
       "slide_type": "fragment"
      }
     },
     "source": [
      "Parses that XDress supports currently are:\n",
      "\n",
      "* pycparser, for pure C-code"
     ]
    },
    {
     "cell_type": "markdown",
     "metadata": {
      "internals": {
       "frag_helper": "fragment_end",
       "frag_number": 12
      },
      "slideshow": {
       "slide_type": "fragment"
      }
     },
     "source": [
      "* GCC-XML, for C++ code"
     ]
    },
    {
     "cell_type": "markdown",
     "metadata": {
      "internals": {
       "frag_helper": "fragment_end",
       "frag_number": 13
      },
      "slideshow": {
       "slide_type": "fragment"
      }
     },
     "source": [
      "* Clang 3.2+, for C and C++ code"
     ]
    },
    {
     "cell_type": "markdown",
     "metadata": {
      "internals": {
       "frag_helper": "fragment_end",
       "frag_number": 14,
       "slide_helper": "subslide_end"
      },
      "slide_helper": "slide_end",
      "slideshow": {
       "slide_type": "fragment"
      }
     },
     "source": [
      "This tactic of relying on external parsers enables flexibility w.r.t. the source language."
     ]
    },
    {
     "cell_type": "markdown",
     "metadata": {
      "internals": {
       "frag_helper": "fragment_end",
       "frag_number": 14,
       "slide_type": "subslide"
      },
      "slideshow": {
       "slide_type": "slide"
      }
     },
     "source": [
      "## API Descriptions\n",
      "\n",
      "*So how do the API descriptions work?*"
     ]
    },
    {
     "cell_type": "markdown",
     "metadata": {
      "internals": {
       "frag_helper": "fragment_end",
       "frag_number": 16
      },
      "slideshow": {
       "slide_type": "fragment"
      }
     },
     "source": [
      "To keep them as a portable as possible, they are nothing fancy."
     ]
    },
    {
     "cell_type": "markdown",
     "metadata": {
      "internals": {
       "frag_helper": "fragment_end",
       "frag_number": 17,
       "slide_helper": "subslide_end"
      },
      "slide_helper": "slide_end",
      "slideshow": {
       "slide_type": "fragment"
      }
     },
     "source": [
      "In memory descriptions (*desc*) are just Python strings, ints, dicts, tuples, lists, and other built-in types.  They can easily be translated into a JSON format."
     ]
    },
    {
     "cell_type": "markdown",
     "metadata": {
      "internals": {
       "frag_helper": "fragment_end",
       "frag_number": 17,
       "slide_type": "subslide"
      },
      "slideshow": {
       "slide_type": "slide"
      }
     },
     "source": [
      "## API Description Example\n",
      "\n",
      "Code is generated from descriptions of API elements to produce idomatic Python wrappers.\n",
      "\n",
      "```python\n",
      "brienne_desc = {\n",
      "    'name': 'Brienne',\n",
      "    'parents': ['LordSelwyn'],\n",
      "    'namespace': 'westeros',\n",
      "    'attrs': {'moniker': 'str'},\n",
      "    'methods': {\n",
      "        ('Brienne',): None,\n",
      "        ('Brienne', ('monkier', 'str', '\"Maid of Tarth\"')): None,\n",
      "        ('~Brienne',): None, \n",
      "        ('attack', ('person', ('char' '*'), ('weapon_id', 'i2', 1))): 'float32',\n",
      "        },\n",
      "    'docstrings': {\n",
      "        'class': \"I am so tall!\",\n",
      "        'attrs': {\n",
      "            'monkier': 'extra name for character',\n",
      "            },\n",
      "        'methods': {\n",
      "            'attack': \"Attack someone with a weapon and returns damage.\"\n",
      "            },\n",
      "        },\n",
      "    'extra': {},\n",
      "    }\n",
      "```"
     ]
    },
    {
     "cell_type": "markdown",
     "metadata": {
      "internals": {
       "frag_helper": "fragment_end",
       "frag_number": 19,
       "slide_helper": "subslide_end"
      },
      "slide_helper": "slide_end",
      "slideshow": {
       "slide_type": "fragment"
      }
     },
     "source": [
      "They heavy lifting of the API decsriptions is done by the type system."
     ]
    },
    {
     "cell_type": "markdown",
     "metadata": {
      "internals": {
       "frag_helper": "fragment_end",
       "frag_number": 19,
       "slide_type": "subslide"
      },
      "slideshow": {
       "slide_type": "slide"
      }
     },
     "source": [
      "## Code Generation \n",
      "\n",
      "After the AST has been turned into an API description, xdress can pass this the code generator."
     ]
    },
    {
     "cell_type": "markdown",
     "metadata": {
      "internals": {
       "frag_helper": "fragment_end",
       "frag_number": 22,
       "slide_helper": "subslide_end"
      },
      "slide_helper": "slide_end",
      "slideshow": {
       "slide_type": "fragment"
      }
     },
     "source": [
      "The primary one is called `cythongen` and targets Python via Cython."
     ]
    },
    {
     "cell_type": "heading",
     "level": 2,
     "metadata": {
      "internals": {
       "frag_helper": "fragment_end",
       "frag_number": 22,
       "slide_type": "subslide"
      },
      "slideshow": {
       "slide_type": "slide"
      }
     },
     "source": [
      "Learn more!"
     ]
    },
    {
     "cell_type": "markdown",
     "metadata": {
      "internals": {
       "frag_helper": "fragment_end",
       "frag_number": 22,
       "slide_helper": "subslide_end"
      },
      "slide_helper": "slide_end",
      "slideshow": {
       "slide_type": "-"
      }
     },
     "source": [
      "* [XDress Sphinx Docs](http://xdress.org/)\n",
      "* [XDress SciPy Presentation](https://www.youtube.com/watch?v=a4kqO1IBZ4U)"
     ]
    }
   ],
   "metadata": {}
  }
 ]
}