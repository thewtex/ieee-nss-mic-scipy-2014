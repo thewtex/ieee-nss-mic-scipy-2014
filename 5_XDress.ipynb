{
 "metadata": {
  "celltoolbar": "Slideshow",
  "kernelspec": {
   "codemirror_mode": {
    "name": "ipython",
    "version": 2
   },
   "display_name": "IPython (Python 2)",
   "language": "python",
   "name": "python2"
  },
  "name": "",
  "signature": "sha256:e633764e3c0d80b257e25df6125cd9f7745600fbb47fe03ac6ae87fd8511fd95"
 },
 "nbformat": 3,
 "nbformat_minor": 0,
 "worksheets": [
  {
   "cells": [
    {
     "cell_type": "code",
     "collapsed": false,
     "input": [],
     "language": "python",
     "metadata": {
      "internals": {
       "slide_helper": "subslide_end",
       "slide_type": "subslide"
      },
      "slide_helper": "slide_end",
      "slideshow": {
       "slide_type": "slide"
      }
     },
     "outputs": []
    },
    {
     "cell_type": "heading",
     "level": 1,
     "metadata": {
      "internals": {
       "slide_helper": "subslide_end",
       "slide_type": "subslide"
      },
      "slide_helper": "subslide_end",
      "slideshow": {
       "slide_type": "slide"
      }
     },
     "source": [
      "Outro"
     ]
    },
    {
     "cell_type": "heading",
     "level": 2,
     "metadata": {
      "internals": {
       "slide_helper": "subslide_end",
       "slide_type": "subslide"
      },
      "slide_helper": "subslide_end",
      "slideshow": {
       "slide_type": "subslide"
      }
     },
     "source": [
      "Outline"
     ]
    },
    {
     "cell_type": "markdown",
     "metadata": {
      "internals": {
       "slide_type": "subslide"
      },
      "slideshow": {
       "slide_type": "subslide"
      }
     },
     "source": [
      "1) Creating a reproducible computational environment with Docker.\n"
     ]
    },
    {
     "cell_type": "markdown",
     "metadata": {
      "internals": {},
      "slideshow": {
       "slide_type": "fragment"
      }
     },
     "source": [
      "2) Interactive analysis and literate programming with the IPython notebook."
     ]
    },
    {
     "cell_type": "markdown",
     "metadata": {
      "internals": {},
      "slideshow": {
       "slide_type": "fragment"
      }
     },
     "source": [
      "3) A brief survey of the fundamental scientific Python packages: numpy, matplotlib, scipy, sympy, pandas, nose."
     ]
    },
    {
     "cell_type": "markdown",
     "metadata": {
      "internals": {},
      "slideshow": {
       "slide_type": "fragment"
      }
     },
     "source": [
      "4) Writing efficient, compiled C/Python hybrid code with Cython."
     ]
    },
    {
     "cell_type": "markdown",
     "metadata": {
      "internals": {},
      "slideshow": {
       "slide_type": "fragment"
      }
     },
     "source": [
      "5) Wrapping C and C++ libraries in python with XDress."
     ]
    },
    {
     "cell_type": "heading",
     "level": 2,
     "metadata": {
      "internals": {},
      "slideshow": {
       "slide_type": "slide"
      }
     },
     "source": [
      "About Me"
     ]
    },
    {
     "cell_type": "code",
     "collapsed": false,
     "input": [
      "import ipywidgets"
     ],
     "language": "python",
     "metadata": {},
     "outputs": [
      {
       "ename": "ImportError",
       "evalue": "No module named ipywidgets",
       "output_type": "pyerr",
       "traceback": [
        "\u001b[1;31m---------------------------------------------------------------------------\u001b[0m",
        "\u001b[1;31mImportError\u001b[0m                               Traceback (most recent call last)",
        "\u001b[1;32m<ipython-input-1-eda6eb64c72d>\u001b[0m in \u001b[0;36m<module>\u001b[1;34m()\u001b[0m\n\u001b[1;32m----> 1\u001b[1;33m \u001b[1;32mimport\u001b[0m \u001b[0mipywidgets\u001b[0m\u001b[1;33m\u001b[0m\u001b[0m\n\u001b[0m",
        "\u001b[1;31mImportError\u001b[0m: No module named ipywidgets"
       ]
      }
     ],
     "prompt_number": 1
    },
    {
     "cell_type": "heading",
     "level": 2,
     "metadata": {
      "internals": {
       "slide_helper": "subslide_end"
      },
      "slide_helper": "slide_end",
      "slideshow": {
       "slide_type": "slide"
      }
     },
     "source": [
      "Credits"
     ]
    },
    {
     "cell_type": "markdown",
     "metadata": {},
     "source": [
      "Many of the content provided here is borrowed directly from these outstanding series:\n",
      "\n",
      "* [J.R. Johansson's Scientific Python Lectures](http://github.com/jrjohansson/scientific-python-lectures)\n",
      "* [IPython Cookbook by Cyrille Rossant](https://ipython-books.github.io/cookbook/)\n",
      "* [IPython Minibook by Cyrille Rossant](https://ipython-books.github.io/minibook/)\n",
      "\n",
      "Thanks to the wonderful SciPy community!\n",
      "\n",
      "<img src=\"images/scipy_world.jpg\" width=\"300\">\n"
     ]
    }
   ],
   "metadata": {}
  }
 ]
}