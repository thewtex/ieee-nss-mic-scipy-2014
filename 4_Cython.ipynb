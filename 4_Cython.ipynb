{
 "metadata": {
  "kernelspec": {
   "codemirror_mode": {
    "name": "ipython",
    "version": 2
   },
   "display_name": "IPython (Python 2)",
   "language": "python",
   "name": "python2"
  },
  "name": "",
  "signature": "sha256:2ce81f4fdf15ccbc9c61a27730be84768028cfe39bf99e591bd7e44bfccdd1c6"
 },
 "nbformat": 3,
 "nbformat_minor": 0,
 "worksheets": [
  {
   "cells": [
    {
     "cell_type": "heading",
     "level": 1,
     "metadata": {
      "internals": {
       "slide_helper": "subslide_end",
       "slide_type": "subslide"
      },
      "slide_helper": "subslide_end",
      "slideshow": {
       "slide_type": "slide"
      }
     },
     "source": [
      "Cython"
     ]
    },
    {
     "cell_type": "markdown",
     "metadata": {
      "internals": {
       "slide_helper": "subslide_end",
       "slide_type": "subslide"
      },
      "slide_helper": "subslide_end",
      "slideshow": {
       "slide_type": "subslide"
      }
     },
     "source": [
      "The Cython language is a superset of the **Python** language that additionally\n",
      "supports calling **C functions** and declaring **C types** on variables and class \n",
      "attributes. \n",
      "\n",
      "This allows the compiler to generate **very efficient C** code from Cython code. "
     ]
    },
    {
     "cell_type": "markdown",
     "metadata": {
      "internals": {
       "slide_type": "subslide"
      },
      "slideshow": {
       "slide_type": "subslide"
      }
     },
     "source": [
      "* Write Python code that calls back and forth from and to C or C++ code natively at any point."
     ]
    },
    {
     "cell_type": "markdown",
     "metadata": {
      "internals": {
       "frag_number": 3
      },
      "slideshow": {
       "slide_type": "fragment"
      }
     },
     "source": [
      "* Easily tune readable Python code into plain C performance by adding static type declarations."
     ]
    },
    {
     "cell_type": "markdown",
     "metadata": {
      "internals": {
       "frag_helper": "fragment_end",
       "frag_number": 4
      },
      "slideshow": {
       "slide_type": "fragment"
      }
     },
     "source": [
      "* Use combined source code level debugging to find bugs in your Python, Cython and C code."
     ]
    },
    {
     "cell_type": "markdown",
     "metadata": {
      "internals": {
       "frag_helper": "fragment_end",
       "frag_number": 5
      },
      "slideshow": {
       "slide_type": "fragment"
      }
     },
     "source": [
      "* Interact efficiently with large data sets, e.g. using multi-dimensional NumPy arrays."
     ]
    },
    {
     "cell_type": "markdown",
     "metadata": {
      "internals": {
       "frag_helper": "fragment_end",
       "frag_number": 6
      },
      "slideshow": {
       "slide_type": "fragment"
      }
     },
     "source": [
      "*  Quickly build your applications within the large, mature and widely used CPython ecosystem."
     ]
    },
    {
     "cell_type": "markdown",
     "metadata": {
      "internals": {
       "frag_helper": "fragment_end",
       "frag_number": 7
      },
      "slideshow": {
       "slide_type": "fragment"
      }
     },
     "source": [
      "* Integrate natively with existing code and data from legacy, low-level or high-performance libraries and applications."
     ]
    },
    {
     "cell_type": "markdown",
     "metadata": [],
     "source": [
      "> This is one of the 100 recipes of the [IPython Cookbook](http://ipython-books.github.io/), the definitive guide to high-performance scientific computing and data science in Python.\n"
     ]
    },
    {
     "cell_type": "markdown",
     "metadata": {
      "internals": {
       "frag_helper": "fragment_end",
       "frag_number": 7,
       "slide_helper": "subslide_end",
       "slide_type": "subslide"
      },
      "slide_helper": "subslide_end",
      "slideshow": {
       "slide_type": "slide"
      }
     },
     "source": [
      "## Accelerating Python code with Cython"
     ]
    },
    {
     "cell_type": "markdown",
     "metadata": {
      "internals": {
       "frag_helper": "fragment_end",
       "frag_number": 7,
       "slide_type": "subslide"
      },
      "slideshow": {
       "slide_type": "subslide"
      }
     },
     "source": [
      "We use Cython to accelerate the generation of the Mandelbrot fractal."
     ]
    },
    {
     "cell_type": "code",
     "collapsed": false,
     "input": [
      "import numpy as np"
     ],
     "language": "python",
     "metadata": {
      "internals": {
       "frag_helper": "fragment_end",
       "frag_number": 7,
       "slide_helper": "subslide_end"
      },
      "slide_helper": "subslide_end",
      "slideshow": {
       "slide_type": "notes"
      }
     },
     "outputs": [],
     "prompt_number": 3
    },
    {
     "cell_type": "markdown",
     "metadata": {
      "internals": {
       "frag_helper": "fragment_end",
       "frag_number": 7,
       "slide_type": "subslide"
      },
      "slideshow": {
       "slide_type": "subslide"
      }
     },
     "source": [
      "We initialize the simulation and generate the grid\n",
      "in the complex plane."
     ]
    },
    {
     "cell_type": "code",
     "collapsed": false,
     "input": [
      "size = 200\n",
      "iterations = 100"
     ],
     "language": "python",
     "metadata": {
      "internals": {
       "frag_helper": "fragment_end",
       "frag_number": 7,
       "slide_helper": "subslide_end"
      },
      "slide_helper": "subslide_end",
      "slideshow": {
       "slide_type": "-"
      }
     },
     "outputs": [],
     "prompt_number": 4
    },
    {
     "cell_type": "markdown",
     "metadata": {
      "internals": {
       "frag_helper": "fragment_end",
       "frag_number": 7,
       "slide_helper": "subslide_end",
       "slide_type": "subslide"
      },
      "slide_helper": "subslide_end",
      "slideshow": {
       "slide_type": "subslide"
      }
     },
     "source": [
      "## Pure Python"
     ]
    },
    {
     "cell_type": "code",
     "collapsed": false,
     "input": [
      "def mandelbrot_python(m, size, iterations):\n",
      "    for i in range(size):\n",
      "        for j in range(size):\n",
      "            c = -2 + 3./size*j + 1j*(1.5-3./size*i)\n",
      "            z = 0\n",
      "            for n in range(iterations):\n",
      "                if np.abs(z) <= 10:\n",
      "                    z = z*z + c\n",
      "                    m[i, j] = n\n",
      "                else:\n",
      "                    break"
     ],
     "language": "python",
     "metadata": {
      "internals": {
       "frag_helper": "fragment_end",
       "frag_number": 7,
       "slide_helper": "subslide_end",
       "slide_type": "subslide"
      },
      "slide_helper": "subslide_end",
      "slideshow": {
       "slide_type": "subslide"
      }
     },
     "outputs": [],
     "prompt_number": 5
    },
    {
     "cell_type": "code",
     "collapsed": false,
     "input": [
      "%%timeit -n1 -r1 m = np.zeros((size, size))\n",
      "mandelbrot_python(m, size, iterations)"
     ],
     "language": "python",
     "metadata": {
      "internals": {
       "frag_helper": "fragment_end",
       "frag_number": 7,
       "slide_helper": "subslide_end",
       "slide_type": "subslide"
      },
      "slide_helper": "subslide_end",
      "slideshow": {
       "slide_type": "subslide"
      }
     },
     "outputs": [
      {
       "output_type": "stream",
       "stream": "stdout",
       "text": [
        "1 loops, best of 1: 2.04 s per loop\n"
       ]
      }
     ],
     "prompt_number": 6
    },
    {
     "cell_type": "markdown",
     "metadata": {
      "internals": {
       "frag_helper": "fragment_end",
       "frag_number": 7,
       "slide_helper": "subslide_end",
       "slide_type": "subslide"
      },
      "slide_helper": "subslide_end",
      "slideshow": {
       "slide_type": "subslide"
      }
     },
     "source": [
      "## Cython versions"
     ]
    },
    {
     "cell_type": "markdown",
     "metadata": {
      "internals": {
       "frag_helper": "fragment_end",
       "frag_number": 7,
       "slide_type": "subslide"
      },
      "slideshow": {
       "slide_type": "subslide"
      }
     },
     "source": [
      "We first import Cython."
     ]
    },
    {
     "cell_type": "code",
     "collapsed": false,
     "input": [
      "%load_ext cythonmagic"
     ],
     "language": "python",
     "metadata": {
      "internals": {
       "frag_helper": "fragment_end",
       "frag_number": 7,
       "slide_helper": "subslide_end"
      },
      "slide_helper": "subslide_end",
      "slideshow": {
       "slide_type": "-"
      }
     },
     "outputs": [],
     "prompt_number": 7
    },
    {
     "cell_type": "markdown",
     "metadata": {
      "internals": {
       "frag_helper": "fragment_end",
       "frag_number": 7,
       "slide_type": "subslide"
      },
      "slideshow": {
       "slide_type": "subslide"
      }
     },
     "source": [
      "### Take 1"
     ]
    },
    {
     "cell_type": "markdown",
     "metadata": {
      "internals": {
       "frag_helper": "fragment_end",
       "frag_number": 7,
       "slide_helper": "subslide_end"
      },
      "slide_helper": "subslide_end",
      "slideshow": {
       "slide_type": "-"
      }
     },
     "source": [
      "First, we just add the %%cython magic."
     ]
    },
    {
     "cell_type": "code",
     "collapsed": false,
     "input": [
      "%%cython -a\n",
      "import numpy as np\n",
      "\n",
      "def mandelbrot_cython(m, size, iterations):\n",
      "    for i in range(size):\n",
      "        for j in range(size):\n",
      "            c = -2 + 3./size*j + 1j*(1.5-3./size*i)\n",
      "            z = 0\n",
      "            for n in range(iterations):\n",
      "                if np.abs(z) <= 10:\n",
      "                    z = z*z + c\n",
      "                    m[i, j] = n\n",
      "                else:\n",
      "                    break"
     ],
     "language": "python",
     "metadata": {
      "internals": {
       "frag_helper": "fragment_end",
       "frag_number": 7,
       "slide_helper": "subslide_end",
       "slide_type": "subslide"
      },
      "slide_helper": "subslide_end",
      "slideshow": {
       "slide_type": "subslide"
      }
     },
     "outputs": [
      {
       "html": [
        "<!DOCTYPE html>\n",
        "<!-- Generated by Cython 0.20.1post0 (Debian 0.20.1+git90-g0e6e38e-1ubuntu2) on Wed Nov 12 16:24:39 2014 -->\n",
        "<html>\n",
        "\n",
        "<head>\n",
        "<meta http-equiv=\"Content-Type\" content=\"text/html; charset=utf-8\" />\n",
        "<style type=\"text/css\">\n",
        "\n",
        "body { font-family: courier; font-size: 12; }\n",
        "\n",
        ".code  { font-size: 9; color: #444444; display: none; margin-left: 20px; }\n",
        ".py_c_api  { color: red; }\n",
        ".py_macro_api  { color: #FF7000; }\n",
        ".pyx_c_api  { color: #FF3000; }\n",
        ".pyx_macro_api  { color: #FF7000; }\n",
        ".refnanny  { color: #FFA000; }\n",
        "\n",
        ".error_goto  { color: #FFA000; }\n",
        "\n",
        ".tag  {  }\n",
        "\n",
        ".coerce  { color: #008000; border: 1px dotted #008000 }\n",
        "\n",
        ".py_attr { color: #FF0000; font-weight: bold; }\n",
        ".c_attr  { color: #0000FF; }\n",
        "\n",
        ".py_call { color: #FF0000; font-weight: bold; }\n",
        ".c_call  { color: #0000FF; }\n",
        "\n",
        ".line { margin: 0em }\n",
        "\n",
        "</style>\n",
        "<script>\n",
        "function toggleDiv(id) {\n",
        "    theDiv = document.getElementById(id);\n",
        "    if (theDiv.style.display != 'block') theDiv.style.display = 'block';\n",
        "    else theDiv.style.display = 'none';\n",
        "}\n",
        "</script>\n",
        "</head>\n",
        "        <body>\n",
        "<p>Generated by Cython 0.20.1post0 (Debian 0.20.1+git90-g0e6e38e-1ubuntu2) on Wed Nov 12 16:24:39 2014\n",
        "<pre class='line' style='background-color: #FFFF8d' onclick='toggleDiv(\"line1\")'> 1: import numpy as np</pre>\n",
        "<pre id='line1' class='code' style='background-color: #FFFF8d'>  __pyx_t_1 = <span class='pyx_c_api'>__Pyx_Import</span>(__pyx_n_s_numpy, 0, -1);<span class='error_goto'> if (unlikely(!__pyx_t_1)) {__pyx_filename = __pyx_f[0]; __pyx_lineno = 1; __pyx_clineno = __LINE__; goto __pyx_L1_error;}</span>\n",
        "  <span class='refnanny'>__Pyx_GOTREF</span>(__pyx_t_1);\n",
        "  if (<span class='py_c_api'>PyDict_SetItem</span>(__pyx_d, __pyx_n_s_np, __pyx_t_1) &lt; 0) <span class='error_goto'>{__pyx_filename = __pyx_f[0]; __pyx_lineno = 1; __pyx_clineno = __LINE__; goto __pyx_L1_error;}</span>\n",
        "  <span class='pyx_macro_api'>__Pyx_DECREF</span>(__pyx_t_1); __pyx_t_1 = 0;\n",
        "</pre><pre class='line' style='background-color: #FFFFff' onclick='toggleDiv(\"line2\")'> 2: </pre>\n",
        "<pre id='line2' class='code' style='background-color: #FFFFff'></pre><pre class='line' style='background-color: #FFFF21' onclick='toggleDiv(\"line3\")'> 3: def mandelbrot_cython(m, size, iterations):</pre>\n",
        "<pre id='line3' class='code' style='background-color: #FFFF21'>/* Python wrapper */\n",
        "static PyObject *__pyx_pw_46_cython_magic_7bed0a6aab46522fbee777ca2b84b851_1mandelbrot_cython(PyObject *__pyx_self, PyObject *__pyx_args, PyObject *__pyx_kwds); /*proto*/\n",
        "static PyMethodDef __pyx_mdef_46_cython_magic_7bed0a6aab46522fbee777ca2b84b851_1mandelbrot_cython = {<span class='pyx_macro_api'>__Pyx_NAMESTR</span>(\"mandelbrot_cython\"), (PyCFunction)__pyx_pw_46_cython_magic_7bed0a6aab46522fbee777ca2b84b851_1mandelbrot_cython, METH_VARARGS|METH_KEYWORDS, <span class='pyx_macro_api'>__Pyx_DOCSTR</span>(0)};\n",
        "static PyObject *__pyx_pw_46_cython_magic_7bed0a6aab46522fbee777ca2b84b851_1mandelbrot_cython(PyObject *__pyx_self, PyObject *__pyx_args, PyObject *__pyx_kwds) {\n",
        "  PyObject *__pyx_v_m = 0;\n",
        "  PyObject *__pyx_v_size = 0;\n",
        "  PyObject *__pyx_v_iterations = 0;\n",
        "  PyObject *__pyx_r = 0;\n",
        "  <span class='refnanny'>__Pyx_RefNannyDeclarations</span>\n",
        "  <span class='refnanny'>__Pyx_RefNannySetupContext</span>(\"mandelbrot_cython (wrapper)\", 0);\n",
        "  {\n",
        "    static PyObject **__pyx_pyargnames[] = {&amp;__pyx_n_s_m,&amp;__pyx_n_s_size,&amp;__pyx_n_s_iterations,0};\n",
        "    PyObject* values[3] = {0,0,0};\n",
        "    if (unlikely(__pyx_kwds)) {\n",
        "      Py_ssize_t kw_args;\n",
        "      const Py_ssize_t pos_args = <span class='py_macro_api'>PyTuple_GET_SIZE</span>(__pyx_args);\n",
        "      switch (pos_args) {\n",
        "        case  3: values[2] = <span class='py_macro_api'>PyTuple_GET_ITEM</span>(__pyx_args, 2);\n",
        "        case  2: values[1] = <span class='py_macro_api'>PyTuple_GET_ITEM</span>(__pyx_args, 1);\n",
        "        case  1: values[0] = <span class='py_macro_api'>PyTuple_GET_ITEM</span>(__pyx_args, 0);\n",
        "        case  0: break;\n",
        "        default: goto __pyx_L5_argtuple_error;\n",
        "      }\n",
        "      kw_args = <span class='py_c_api'>PyDict_Size</span>(__pyx_kwds);\n",
        "      switch (pos_args) {\n",
        "        case  0:\n",
        "        if (likely((values[0] = <span class='py_c_api'>PyDict_GetItem</span>(__pyx_kwds, __pyx_n_s_m)) != 0)) kw_args--;\n",
        "        else goto __pyx_L5_argtuple_error;\n",
        "        case  1:\n",
        "        if (likely((values[1] = <span class='py_c_api'>PyDict_GetItem</span>(__pyx_kwds, __pyx_n_s_size)) != 0)) kw_args--;\n",
        "        else {\n",
        "          <span class='pyx_c_api'>__Pyx_RaiseArgtupleInvalid</span>(\"mandelbrot_cython\", 1, 3, 3, 1); <span class='error_goto'>{__pyx_filename = __pyx_f[0]; __pyx_lineno = 3; __pyx_clineno = __LINE__; goto __pyx_L3_error;}</span>\n",
        "        }\n",
        "        case  2:\n",
        "        if (likely((values[2] = <span class='py_c_api'>PyDict_GetItem</span>(__pyx_kwds, __pyx_n_s_iterations)) != 0)) kw_args--;\n",
        "        else {\n",
        "          <span class='pyx_c_api'>__Pyx_RaiseArgtupleInvalid</span>(\"mandelbrot_cython\", 1, 3, 3, 2); <span class='error_goto'>{__pyx_filename = __pyx_f[0]; __pyx_lineno = 3; __pyx_clineno = __LINE__; goto __pyx_L3_error;}</span>\n",
        "        }\n",
        "      }\n",
        "      if (unlikely(kw_args &gt; 0)) {\n",
        "        if (unlikely(<span class='pyx_c_api'>__Pyx_ParseOptionalKeywords</span>(__pyx_kwds, __pyx_pyargnames, 0, values, pos_args, \"mandelbrot_cython\") &lt; 0)) <span class='error_goto'>{__pyx_filename = __pyx_f[0]; __pyx_lineno = 3; __pyx_clineno = __LINE__; goto __pyx_L3_error;}</span>\n",
        "      }\n",
        "    } else if (<span class='py_macro_api'>PyTuple_GET_SIZE</span>(__pyx_args) != 3) {\n",
        "      goto __pyx_L5_argtuple_error;\n",
        "    } else {\n",
        "      values[0] = <span class='py_macro_api'>PyTuple_GET_ITEM</span>(__pyx_args, 0);\n",
        "      values[1] = <span class='py_macro_api'>PyTuple_GET_ITEM</span>(__pyx_args, 1);\n",
        "      values[2] = <span class='py_macro_api'>PyTuple_GET_ITEM</span>(__pyx_args, 2);\n",
        "    }\n",
        "    __pyx_v_m = values[0];\n",
        "    __pyx_v_size = values[1];\n",
        "    __pyx_v_iterations = values[2];\n",
        "  }\n",
        "  goto __pyx_L4_argument_unpacking_done;\n",
        "  __pyx_L5_argtuple_error:;\n",
        "  <span class='pyx_c_api'>__Pyx_RaiseArgtupleInvalid</span>(\"mandelbrot_cython\", 1, 3, 3, <span class='py_macro_api'>PyTuple_GET_SIZE</span>(__pyx_args)); <span class='error_goto'>{__pyx_filename = __pyx_f[0]; __pyx_lineno = 3; __pyx_clineno = __LINE__; goto __pyx_L3_error;}</span>\n",
        "  __pyx_L3_error:;\n",
        "  <span class='pyx_c_api'>__Pyx_AddTraceback</span>(\"_cython_magic_7bed0a6aab46522fbee777ca2b84b851.mandelbrot_cython\", __pyx_clineno, __pyx_lineno, __pyx_filename);\n",
        "  <span class='refnanny'>__Pyx_RefNannyFinishContext</span>();\n",
        "  return NULL;\n",
        "  __pyx_L4_argument_unpacking_done:;\n",
        "  __pyx_r = __pyx_pf_46_cython_magic_7bed0a6aab46522fbee777ca2b84b851_mandelbrot_cython(__pyx_self, __pyx_v_m, __pyx_v_size, __pyx_v_iterations);\n",
        "  int __pyx_lineno = 0;\n",
        "  const char *__pyx_filename = NULL;\n",
        "  int __pyx_clineno = 0;\n",
        "\n",
        "  /* function exit code */\n",
        "  <span class='refnanny'>__Pyx_RefNannyFinishContext</span>();\n",
        "  return __pyx_r;\n",
        "}\n",
        "\n",
        "static PyObject *__pyx_pf_46_cython_magic_7bed0a6aab46522fbee777ca2b84b851_mandelbrot_cython(CYTHON_UNUSED PyObject *__pyx_self, PyObject *__pyx_v_m, PyObject *__pyx_v_size, PyObject *__pyx_v_iterations) {\n",
        "  PyObject *__pyx_v_i = NULL;\n",
        "  PyObject *__pyx_v_j = NULL;\n",
        "  PyObject *__pyx_v_c = NULL;\n",
        "  PyObject *__pyx_v_z = NULL;\n",
        "  PyObject *__pyx_v_n = NULL;\n",
        "  PyObject *__pyx_r = NULL;\n",
        "  <span class='refnanny'>__Pyx_RefNannyDeclarations</span>\n",
        "  <span class='refnanny'>__Pyx_RefNannySetupContext</span>(\"mandelbrot_cython\", 0);\n",
        "/* \u2026 */\n",
        "  /* function exit code */\n",
        "  __pyx_r = Py_None; <span class='pyx_macro_api'>__Pyx_INCREF</span>(Py_None);\n",
        "  goto __pyx_L0;\n",
        "  __pyx_L1_error:;\n",
        "  <span class='pyx_macro_api'>__Pyx_XDECREF</span>(__pyx_t_1);\n",
        "  <span class='pyx_macro_api'>__Pyx_XDECREF</span>(__pyx_t_2);\n",
        "  <span class='pyx_macro_api'>__Pyx_XDECREF</span>(__pyx_t_5);\n",
        "  <span class='pyx_macro_api'>__Pyx_XDECREF</span>(__pyx_t_8);\n",
        "  <span class='pyx_macro_api'>__Pyx_XDECREF</span>(__pyx_t_9);\n",
        "  <span class='pyx_macro_api'>__Pyx_XDECREF</span>(__pyx_t_10);\n",
        "  <span class='pyx_c_api'>__Pyx_AddTraceback</span>(\"_cython_magic_7bed0a6aab46522fbee777ca2b84b851.mandelbrot_cython\", __pyx_clineno, __pyx_lineno, __pyx_filename);\n",
        "  __pyx_r = NULL;\n",
        "  __pyx_L0:;\n",
        "  <span class='pyx_macro_api'>__Pyx_XDECREF</span>(__pyx_v_i);\n",
        "  <span class='pyx_macro_api'>__Pyx_XDECREF</span>(__pyx_v_j);\n",
        "  <span class='pyx_macro_api'>__Pyx_XDECREF</span>(__pyx_v_c);\n",
        "  <span class='pyx_macro_api'>__Pyx_XDECREF</span>(__pyx_v_z);\n",
        "  <span class='pyx_macro_api'>__Pyx_XDECREF</span>(__pyx_v_n);\n",
        "  <span class='refnanny'>__Pyx_XGIVEREF</span>(__pyx_r);\n",
        "  <span class='refnanny'>__Pyx_RefNannyFinishContext</span>();\n",
        "  return __pyx_r;\n",
        "}\n",
        "/* \u2026 */\n",
        "  __pyx_tuple_ = <span class='py_c_api'>PyTuple_Pack</span>(8, __pyx_n_s_m, __pyx_n_s_size, __pyx_n_s_iterations, __pyx_n_s_i, __pyx_n_s_j, __pyx_n_s_c, __pyx_n_s_z, __pyx_n_s_n);<span class='error_goto'> if (unlikely(!__pyx_tuple_)) {__pyx_filename = __pyx_f[0]; __pyx_lineno = 3; __pyx_clineno = __LINE__; goto __pyx_L1_error;}</span>\n",
        "  <span class='refnanny'>__Pyx_GOTREF</span>(__pyx_tuple_);\n",
        "  <span class='refnanny'>__Pyx_GIVEREF</span>(__pyx_tuple_);\n",
        "/* \u2026 */\n",
        "  __pyx_t_1 = PyCFunction_NewEx(&amp;__pyx_mdef_46_cython_magic_7bed0a6aab46522fbee777ca2b84b851_1mandelbrot_cython, NULL, __pyx_n_s_cython_magic_7bed0a6aab46522fbe);<span class='error_goto'> if (unlikely(!__pyx_t_1)) {__pyx_filename = __pyx_f[0]; __pyx_lineno = 3; __pyx_clineno = __LINE__; goto __pyx_L1_error;}</span>\n",
        "  <span class='refnanny'>__Pyx_GOTREF</span>(__pyx_t_1);\n",
        "  if (<span class='py_c_api'>PyDict_SetItem</span>(__pyx_d, __pyx_n_s_mandelbrot_cython, __pyx_t_1) &lt; 0) <span class='error_goto'>{__pyx_filename = __pyx_f[0]; __pyx_lineno = 3; __pyx_clineno = __LINE__; goto __pyx_L1_error;}</span>\n",
        "  <span class='pyx_macro_api'>__Pyx_DECREF</span>(__pyx_t_1); __pyx_t_1 = 0;\n",
        "</pre><pre class='line' style='background-color: #FFFF23' onclick='toggleDiv(\"line4\")'> 4:     for i in range(size):</pre>\n",
        "<pre id='line4' class='code' style='background-color: #FFFF23'>  __pyx_t_1 = <span class='py_c_api'>PyTuple_New</span>(1);<span class='error_goto'> if (unlikely(!__pyx_t_1)) {__pyx_filename = __pyx_f[0]; __pyx_lineno = 4; __pyx_clineno = __LINE__; goto __pyx_L1_error;}</span>\n",
        "  <span class='refnanny'>__Pyx_GOTREF</span>(__pyx_t_1);\n",
        "  <span class='pyx_macro_api'>__Pyx_INCREF</span>(__pyx_v_size);\n",
        "  <span class='py_macro_api'>PyTuple_SET_ITEM</span>(__pyx_t_1, 0, __pyx_v_size);\n",
        "  <span class='refnanny'>__Pyx_GIVEREF</span>(__pyx_v_size);\n",
        "  __pyx_t_2 = <span class='pyx_c_api'>__Pyx_PyObject_Call</span>(__pyx_builtin_range, __pyx_t_1, NULL);<span class='error_goto'> if (unlikely(!__pyx_t_2)) {__pyx_filename = __pyx_f[0]; __pyx_lineno = 4; __pyx_clineno = __LINE__; goto __pyx_L1_error;}</span>\n",
        "  <span class='refnanny'>__Pyx_GOTREF</span>(__pyx_t_2);\n",
        "  <span class='pyx_macro_api'>__Pyx_DECREF</span>(__pyx_t_1); __pyx_t_1 = 0;\n",
        "  if (<span class='py_c_api'>PyList_CheckExact</span>(__pyx_t_2) || <span class='py_c_api'>PyTuple_CheckExact</span>(__pyx_t_2)) {\n",
        "    __pyx_t_1 = __pyx_t_2; <span class='pyx_macro_api'>__Pyx_INCREF</span>(__pyx_t_1); __pyx_t_3 = 0;\n",
        "    __pyx_t_4 = NULL;\n",
        "  } else {\n",
        "    __pyx_t_3 = -1; __pyx_t_1 = <span class='py_c_api'>PyObject_GetIter</span>(__pyx_t_2);<span class='error_goto'> if (unlikely(!__pyx_t_1)) {__pyx_filename = __pyx_f[0]; __pyx_lineno = 4; __pyx_clineno = __LINE__; goto __pyx_L1_error;}</span>\n",
        "    <span class='refnanny'>__Pyx_GOTREF</span>(__pyx_t_1);\n",
        "    __pyx_t_4 = Py_TYPE(__pyx_t_1)-&gt;tp_iternext;\n",
        "  }\n",
        "  <span class='pyx_macro_api'>__Pyx_DECREF</span>(__pyx_t_2); __pyx_t_2 = 0;\n",
        "  for (;;) {\n",
        "    if (!__pyx_t_4 &amp;&amp; <span class='py_c_api'>PyList_CheckExact</span>(__pyx_t_1)) {\n",
        "      if (__pyx_t_3 &gt;= <span class='py_macro_api'>PyList_GET_SIZE</span>(__pyx_t_1)) break;\n",
        "      #if CYTHON_COMPILING_IN_CPYTHON\n",
        "      __pyx_t_2 = <span class='py_macro_api'>PyList_GET_ITEM</span>(__pyx_t_1, __pyx_t_3); <span class='pyx_macro_api'>__Pyx_INCREF</span>(__pyx_t_2); __pyx_t_3++;<span class='error_goto'> if (unlikely(0 &lt; 0)) {__pyx_filename = __pyx_f[0]; __pyx_lineno = 4; __pyx_clineno = __LINE__; goto __pyx_L1_error;}</span>\n",
        "      #else\n",
        "      __pyx_t_2 = <span class='py_macro_api'>PySequence_ITEM</span>(__pyx_t_1, __pyx_t_3); __pyx_t_3++;<span class='error_goto'> if (unlikely(!__pyx_t_2)) {__pyx_filename = __pyx_f[0]; __pyx_lineno = 4; __pyx_clineno = __LINE__; goto __pyx_L1_error;}</span>\n",
        "      #endif\n",
        "    } else if (!__pyx_t_4 &amp;&amp; <span class='py_c_api'>PyTuple_CheckExact</span>(__pyx_t_1)) {\n",
        "      if (__pyx_t_3 &gt;= <span class='py_macro_api'>PyTuple_GET_SIZE</span>(__pyx_t_1)) break;\n",
        "      #if CYTHON_COMPILING_IN_CPYTHON\n",
        "      __pyx_t_2 = <span class='py_macro_api'>PyTuple_GET_ITEM</span>(__pyx_t_1, __pyx_t_3); <span class='pyx_macro_api'>__Pyx_INCREF</span>(__pyx_t_2); __pyx_t_3++;<span class='error_goto'> if (unlikely(0 &lt; 0)) {__pyx_filename = __pyx_f[0]; __pyx_lineno = 4; __pyx_clineno = __LINE__; goto __pyx_L1_error;}</span>\n",
        "      #else\n",
        "      __pyx_t_2 = <span class='py_macro_api'>PySequence_ITEM</span>(__pyx_t_1, __pyx_t_3); __pyx_t_3++;<span class='error_goto'> if (unlikely(!__pyx_t_2)) {__pyx_filename = __pyx_f[0]; __pyx_lineno = 4; __pyx_clineno = __LINE__; goto __pyx_L1_error;}</span>\n",
        "      #endif\n",
        "    } else {\n",
        "      __pyx_t_2 = __pyx_t_4(__pyx_t_1);\n",
        "      if (unlikely(!__pyx_t_2)) {\n",
        "        PyObject* exc_type = <span class='py_c_api'>PyErr_Occurred</span>();\n",
        "        if (exc_type) {\n",
        "          if (likely(exc_type == PyExc_StopIteration || <span class='py_c_api'>PyErr_GivenExceptionMatches</span>(exc_type, PyExc_StopIteration))) <span class='py_c_api'>PyErr_Clear</span>();\n",
        "          else <span class='error_goto'>{__pyx_filename = __pyx_f[0]; __pyx_lineno = 4; __pyx_clineno = __LINE__; goto __pyx_L1_error;}</span>\n",
        "        }\n",
        "        break;\n",
        "      }\n",
        "      <span class='refnanny'>__Pyx_GOTREF</span>(__pyx_t_2);\n",
        "    }\n",
        "    <span class='pyx_macro_api'>__Pyx_XDECREF_SET</span>(__pyx_v_i, __pyx_t_2);\n",
        "    __pyx_t_2 = 0;\n",
        "</pre><pre class='line' style='background-color: #FFFF23' onclick='toggleDiv(\"line5\")'> 5:         for j in range(size):</pre>\n",
        "<pre id='line5' class='code' style='background-color: #FFFF23'>    __pyx_t_2 = <span class='py_c_api'>PyTuple_New</span>(1);<span class='error_goto'> if (unlikely(!__pyx_t_2)) {__pyx_filename = __pyx_f[0]; __pyx_lineno = 5; __pyx_clineno = __LINE__; goto __pyx_L1_error;}</span>\n",
        "    <span class='refnanny'>__Pyx_GOTREF</span>(__pyx_t_2);\n",
        "    <span class='pyx_macro_api'>__Pyx_INCREF</span>(__pyx_v_size);\n",
        "    <span class='py_macro_api'>PyTuple_SET_ITEM</span>(__pyx_t_2, 0, __pyx_v_size);\n",
        "    <span class='refnanny'>__Pyx_GIVEREF</span>(__pyx_v_size);\n",
        "    __pyx_t_5 = <span class='pyx_c_api'>__Pyx_PyObject_Call</span>(__pyx_builtin_range, __pyx_t_2, NULL);<span class='error_goto'> if (unlikely(!__pyx_t_5)) {__pyx_filename = __pyx_f[0]; __pyx_lineno = 5; __pyx_clineno = __LINE__; goto __pyx_L1_error;}</span>\n",
        "    <span class='refnanny'>__Pyx_GOTREF</span>(__pyx_t_5);\n",
        "    <span class='pyx_macro_api'>__Pyx_DECREF</span>(__pyx_t_2); __pyx_t_2 = 0;\n",
        "    if (<span class='py_c_api'>PyList_CheckExact</span>(__pyx_t_5) || <span class='py_c_api'>PyTuple_CheckExact</span>(__pyx_t_5)) {\n",
        "      __pyx_t_2 = __pyx_t_5; <span class='pyx_macro_api'>__Pyx_INCREF</span>(__pyx_t_2); __pyx_t_6 = 0;\n",
        "      __pyx_t_7 = NULL;\n",
        "    } else {\n",
        "      __pyx_t_6 = -1; __pyx_t_2 = <span class='py_c_api'>PyObject_GetIter</span>(__pyx_t_5);<span class='error_goto'> if (unlikely(!__pyx_t_2)) {__pyx_filename = __pyx_f[0]; __pyx_lineno = 5; __pyx_clineno = __LINE__; goto __pyx_L1_error;}</span>\n",
        "      <span class='refnanny'>__Pyx_GOTREF</span>(__pyx_t_2);\n",
        "      __pyx_t_7 = Py_TYPE(__pyx_t_2)-&gt;tp_iternext;\n",
        "    }\n",
        "    <span class='pyx_macro_api'>__Pyx_DECREF</span>(__pyx_t_5); __pyx_t_5 = 0;\n",
        "    for (;;) {\n",
        "      if (!__pyx_t_7 &amp;&amp; <span class='py_c_api'>PyList_CheckExact</span>(__pyx_t_2)) {\n",
        "        if (__pyx_t_6 &gt;= <span class='py_macro_api'>PyList_GET_SIZE</span>(__pyx_t_2)) break;\n",
        "        #if CYTHON_COMPILING_IN_CPYTHON\n",
        "        __pyx_t_5 = <span class='py_macro_api'>PyList_GET_ITEM</span>(__pyx_t_2, __pyx_t_6); <span class='pyx_macro_api'>__Pyx_INCREF</span>(__pyx_t_5); __pyx_t_6++;<span class='error_goto'> if (unlikely(0 &lt; 0)) {__pyx_filename = __pyx_f[0]; __pyx_lineno = 5; __pyx_clineno = __LINE__; goto __pyx_L1_error;}</span>\n",
        "        #else\n",
        "        __pyx_t_5 = <span class='py_macro_api'>PySequence_ITEM</span>(__pyx_t_2, __pyx_t_6); __pyx_t_6++;<span class='error_goto'> if (unlikely(!__pyx_t_5)) {__pyx_filename = __pyx_f[0]; __pyx_lineno = 5; __pyx_clineno = __LINE__; goto __pyx_L1_error;}</span>\n",
        "        #endif\n",
        "      } else if (!__pyx_t_7 &amp;&amp; <span class='py_c_api'>PyTuple_CheckExact</span>(__pyx_t_2)) {\n",
        "        if (__pyx_t_6 &gt;= <span class='py_macro_api'>PyTuple_GET_SIZE</span>(__pyx_t_2)) break;\n",
        "        #if CYTHON_COMPILING_IN_CPYTHON\n",
        "        __pyx_t_5 = <span class='py_macro_api'>PyTuple_GET_ITEM</span>(__pyx_t_2, __pyx_t_6); <span class='pyx_macro_api'>__Pyx_INCREF</span>(__pyx_t_5); __pyx_t_6++;<span class='error_goto'> if (unlikely(0 &lt; 0)) {__pyx_filename = __pyx_f[0]; __pyx_lineno = 5; __pyx_clineno = __LINE__; goto __pyx_L1_error;}</span>\n",
        "        #else\n",
        "        __pyx_t_5 = <span class='py_macro_api'>PySequence_ITEM</span>(__pyx_t_2, __pyx_t_6); __pyx_t_6++;<span class='error_goto'> if (unlikely(!__pyx_t_5)) {__pyx_filename = __pyx_f[0]; __pyx_lineno = 5; __pyx_clineno = __LINE__; goto __pyx_L1_error;}</span>\n",
        "        #endif\n",
        "      } else {\n",
        "        __pyx_t_5 = __pyx_t_7(__pyx_t_2);\n",
        "        if (unlikely(!__pyx_t_5)) {\n",
        "          PyObject* exc_type = <span class='py_c_api'>PyErr_Occurred</span>();\n",
        "          if (exc_type) {\n",
        "            if (likely(exc_type == PyExc_StopIteration || <span class='py_c_api'>PyErr_GivenExceptionMatches</span>(exc_type, PyExc_StopIteration))) <span class='py_c_api'>PyErr_Clear</span>();\n",
        "            else <span class='error_goto'>{__pyx_filename = __pyx_f[0]; __pyx_lineno = 5; __pyx_clineno = __LINE__; goto __pyx_L1_error;}</span>\n",
        "          }\n",
        "          break;\n",
        "        }\n",
        "        <span class='refnanny'>__Pyx_GOTREF</span>(__pyx_t_5);\n",
        "      }\n",
        "      <span class='pyx_macro_api'>__Pyx_XDECREF_SET</span>(__pyx_v_j, __pyx_t_5);\n",
        "      __pyx_t_5 = 0;\n",
        "</pre><pre class='line' style='background-color: #FFFF2b' onclick='toggleDiv(\"line6\")'> 6:             c = -2 + 3./size*j + 1j*(1.5-3./size*i)</pre>\n",
        "<pre id='line6' class='code' style='background-color: #FFFF2b'>      __pyx_t_5 = <span class='pyx_c_api'>__Pyx_PyNumber_Divide</span>(__pyx_float_3_, __pyx_v_size);<span class='error_goto'> if (unlikely(!__pyx_t_5)) {__pyx_filename = __pyx_f[0]; __pyx_lineno = 6; __pyx_clineno = __LINE__; goto __pyx_L1_error;}</span>\n",
        "      <span class='refnanny'>__Pyx_GOTREF</span>(__pyx_t_5);\n",
        "      __pyx_t_8 = <span class='py_c_api'>PyNumber_Multiply</span>(__pyx_t_5, __pyx_v_j);<span class='error_goto'> if (unlikely(!__pyx_t_8)) {__pyx_filename = __pyx_f[0]; __pyx_lineno = 6; __pyx_clineno = __LINE__; goto __pyx_L1_error;}</span>\n",
        "      <span class='refnanny'>__Pyx_GOTREF</span>(__pyx_t_8);\n",
        "      <span class='pyx_macro_api'>__Pyx_DECREF</span>(__pyx_t_5); __pyx_t_5 = 0;\n",
        "      __pyx_t_5 = <span class='py_c_api'>PyNumber_Add</span>(__pyx_int_neg_2, __pyx_t_8);<span class='error_goto'> if (unlikely(!__pyx_t_5)) {__pyx_filename = __pyx_f[0]; __pyx_lineno = 6; __pyx_clineno = __LINE__; goto __pyx_L1_error;}</span>\n",
        "      <span class='refnanny'>__Pyx_GOTREF</span>(__pyx_t_5);\n",
        "      <span class='pyx_macro_api'>__Pyx_DECREF</span>(__pyx_t_8); __pyx_t_8 = 0;\n",
        "      __pyx_t_8 = <span class='py_c_api'>PyComplex_FromDoubles</span>(0.0, 1.0);<span class='error_goto'> if (unlikely(!__pyx_t_8)) {__pyx_filename = __pyx_f[0]; __pyx_lineno = 6; __pyx_clineno = __LINE__; goto __pyx_L1_error;}</span>\n",
        "      <span class='refnanny'>__Pyx_GOTREF</span>(__pyx_t_8);\n",
        "      __pyx_t_9 = <span class='pyx_c_api'>__Pyx_PyNumber_Divide</span>(__pyx_float_3_, __pyx_v_size);<span class='error_goto'> if (unlikely(!__pyx_t_9)) {__pyx_filename = __pyx_f[0]; __pyx_lineno = 6; __pyx_clineno = __LINE__; goto __pyx_L1_error;}</span>\n",
        "      <span class='refnanny'>__Pyx_GOTREF</span>(__pyx_t_9);\n",
        "      __pyx_t_10 = <span class='py_c_api'>PyNumber_Multiply</span>(__pyx_t_9, __pyx_v_i);<span class='error_goto'> if (unlikely(!__pyx_t_10)) {__pyx_filename = __pyx_f[0]; __pyx_lineno = 6; __pyx_clineno = __LINE__; goto __pyx_L1_error;}</span>\n",
        "      <span class='refnanny'>__Pyx_GOTREF</span>(__pyx_t_10);\n",
        "      <span class='pyx_macro_api'>__Pyx_DECREF</span>(__pyx_t_9); __pyx_t_9 = 0;\n",
        "      __pyx_t_9 = <span class='py_c_api'>PyNumber_Subtract</span>(__pyx_float_1_5, __pyx_t_10);<span class='error_goto'> if (unlikely(!__pyx_t_9)) {__pyx_filename = __pyx_f[0]; __pyx_lineno = 6; __pyx_clineno = __LINE__; goto __pyx_L1_error;}</span>\n",
        "      <span class='refnanny'>__Pyx_GOTREF</span>(__pyx_t_9);\n",
        "      <span class='pyx_macro_api'>__Pyx_DECREF</span>(__pyx_t_10); __pyx_t_10 = 0;\n",
        "      __pyx_t_10 = <span class='py_c_api'>PyNumber_Multiply</span>(__pyx_t_8, __pyx_t_9);<span class='error_goto'> if (unlikely(!__pyx_t_10)) {__pyx_filename = __pyx_f[0]; __pyx_lineno = 6; __pyx_clineno = __LINE__; goto __pyx_L1_error;}</span>\n",
        "      <span class='refnanny'>__Pyx_GOTREF</span>(__pyx_t_10);\n",
        "      <span class='pyx_macro_api'>__Pyx_DECREF</span>(__pyx_t_8); __pyx_t_8 = 0;\n",
        "      <span class='pyx_macro_api'>__Pyx_DECREF</span>(__pyx_t_9); __pyx_t_9 = 0;\n",
        "      __pyx_t_9 = <span class='py_c_api'>PyNumber_Add</span>(__pyx_t_5, __pyx_t_10);<span class='error_goto'> if (unlikely(!__pyx_t_9)) {__pyx_filename = __pyx_f[0]; __pyx_lineno = 6; __pyx_clineno = __LINE__; goto __pyx_L1_error;}</span>\n",
        "      <span class='refnanny'>__Pyx_GOTREF</span>(__pyx_t_9);\n",
        "      <span class='pyx_macro_api'>__Pyx_DECREF</span>(__pyx_t_5); __pyx_t_5 = 0;\n",
        "      <span class='pyx_macro_api'>__Pyx_DECREF</span>(__pyx_t_10); __pyx_t_10 = 0;\n",
        "      <span class='pyx_macro_api'>__Pyx_XDECREF_SET</span>(__pyx_v_c, __pyx_t_9);\n",
        "      __pyx_t_9 = 0;\n",
        "</pre><pre class='line' style='background-color: #FFFFd4' onclick='toggleDiv(\"line7\")'> 7:             z = 0</pre>\n",
        "<pre id='line7' class='code' style='background-color: #FFFFd4'>      <span class='pyx_macro_api'>__Pyx_INCREF</span>(__pyx_int_0);\n",
        "      <span class='pyx_macro_api'>__Pyx_XDECREF_SET</span>(__pyx_v_z, __pyx_int_0);\n",
        "</pre><pre class='line' style='background-color: #FFFF23' onclick='toggleDiv(\"line8\")'> 8:             for n in range(iterations):</pre>\n",
        "<pre id='line8' class='code' style='background-color: #FFFF23'>      __pyx_t_9 = <span class='py_c_api'>PyTuple_New</span>(1);<span class='error_goto'> if (unlikely(!__pyx_t_9)) {__pyx_filename = __pyx_f[0]; __pyx_lineno = 8; __pyx_clineno = __LINE__; goto __pyx_L1_error;}</span>\n",
        "      <span class='refnanny'>__Pyx_GOTREF</span>(__pyx_t_9);\n",
        "      <span class='pyx_macro_api'>__Pyx_INCREF</span>(__pyx_v_iterations);\n",
        "      <span class='py_macro_api'>PyTuple_SET_ITEM</span>(__pyx_t_9, 0, __pyx_v_iterations);\n",
        "      <span class='refnanny'>__Pyx_GIVEREF</span>(__pyx_v_iterations);\n",
        "      __pyx_t_10 = <span class='pyx_c_api'>__Pyx_PyObject_Call</span>(__pyx_builtin_range, __pyx_t_9, NULL);<span class='error_goto'> if (unlikely(!__pyx_t_10)) {__pyx_filename = __pyx_f[0]; __pyx_lineno = 8; __pyx_clineno = __LINE__; goto __pyx_L1_error;}</span>\n",
        "      <span class='refnanny'>__Pyx_GOTREF</span>(__pyx_t_10);\n",
        "      <span class='pyx_macro_api'>__Pyx_DECREF</span>(__pyx_t_9); __pyx_t_9 = 0;\n",
        "      if (<span class='py_c_api'>PyList_CheckExact</span>(__pyx_t_10) || <span class='py_c_api'>PyTuple_CheckExact</span>(__pyx_t_10)) {\n",
        "        __pyx_t_9 = __pyx_t_10; <span class='pyx_macro_api'>__Pyx_INCREF</span>(__pyx_t_9); __pyx_t_11 = 0;\n",
        "        __pyx_t_12 = NULL;\n",
        "      } else {\n",
        "        __pyx_t_11 = -1; __pyx_t_9 = <span class='py_c_api'>PyObject_GetIter</span>(__pyx_t_10);<span class='error_goto'> if (unlikely(!__pyx_t_9)) {__pyx_filename = __pyx_f[0]; __pyx_lineno = 8; __pyx_clineno = __LINE__; goto __pyx_L1_error;}</span>\n",
        "        <span class='refnanny'>__Pyx_GOTREF</span>(__pyx_t_9);\n",
        "        __pyx_t_12 = Py_TYPE(__pyx_t_9)-&gt;tp_iternext;\n",
        "      }\n",
        "      <span class='pyx_macro_api'>__Pyx_DECREF</span>(__pyx_t_10); __pyx_t_10 = 0;\n",
        "      for (;;) {\n",
        "        if (!__pyx_t_12 &amp;&amp; <span class='py_c_api'>PyList_CheckExact</span>(__pyx_t_9)) {\n",
        "          if (__pyx_t_11 &gt;= <span class='py_macro_api'>PyList_GET_SIZE</span>(__pyx_t_9)) break;\n",
        "          #if CYTHON_COMPILING_IN_CPYTHON\n",
        "          __pyx_t_10 = <span class='py_macro_api'>PyList_GET_ITEM</span>(__pyx_t_9, __pyx_t_11); <span class='pyx_macro_api'>__Pyx_INCREF</span>(__pyx_t_10); __pyx_t_11++;<span class='error_goto'> if (unlikely(0 &lt; 0)) {__pyx_filename = __pyx_f[0]; __pyx_lineno = 8; __pyx_clineno = __LINE__; goto __pyx_L1_error;}</span>\n",
        "          #else\n",
        "          __pyx_t_10 = <span class='py_macro_api'>PySequence_ITEM</span>(__pyx_t_9, __pyx_t_11); __pyx_t_11++;<span class='error_goto'> if (unlikely(!__pyx_t_10)) {__pyx_filename = __pyx_f[0]; __pyx_lineno = 8; __pyx_clineno = __LINE__; goto __pyx_L1_error;}</span>\n",
        "          #endif\n",
        "        } else if (!__pyx_t_12 &amp;&amp; <span class='py_c_api'>PyTuple_CheckExact</span>(__pyx_t_9)) {\n",
        "          if (__pyx_t_11 &gt;= <span class='py_macro_api'>PyTuple_GET_SIZE</span>(__pyx_t_9)) break;\n",
        "          #if CYTHON_COMPILING_IN_CPYTHON\n",
        "          __pyx_t_10 = <span class='py_macro_api'>PyTuple_GET_ITEM</span>(__pyx_t_9, __pyx_t_11); <span class='pyx_macro_api'>__Pyx_INCREF</span>(__pyx_t_10); __pyx_t_11++;<span class='error_goto'> if (unlikely(0 &lt; 0)) {__pyx_filename = __pyx_f[0]; __pyx_lineno = 8; __pyx_clineno = __LINE__; goto __pyx_L1_error;}</span>\n",
        "          #else\n",
        "          __pyx_t_10 = <span class='py_macro_api'>PySequence_ITEM</span>(__pyx_t_9, __pyx_t_11); __pyx_t_11++;<span class='error_goto'> if (unlikely(!__pyx_t_10)) {__pyx_filename = __pyx_f[0]; __pyx_lineno = 8; __pyx_clineno = __LINE__; goto __pyx_L1_error;}</span>\n",
        "          #endif\n",
        "        } else {\n",
        "          __pyx_t_10 = __pyx_t_12(__pyx_t_9);\n",
        "          if (unlikely(!__pyx_t_10)) {\n",
        "            PyObject* exc_type = <span class='py_c_api'>PyErr_Occurred</span>();\n",
        "            if (exc_type) {\n",
        "              if (likely(exc_type == PyExc_StopIteration || <span class='py_c_api'>PyErr_GivenExceptionMatches</span>(exc_type, PyExc_StopIteration))) <span class='py_c_api'>PyErr_Clear</span>();\n",
        "              else <span class='error_goto'>{__pyx_filename = __pyx_f[0]; __pyx_lineno = 8; __pyx_clineno = __LINE__; goto __pyx_L1_error;}</span>\n",
        "            }\n",
        "            break;\n",
        "          }\n",
        "          <span class='refnanny'>__Pyx_GOTREF</span>(__pyx_t_10);\n",
        "        }\n",
        "        <span class='pyx_macro_api'>__Pyx_XDECREF_SET</span>(__pyx_v_n, __pyx_t_10);\n",
        "        __pyx_t_10 = 0;\n",
        "</pre><pre class='line' style='background-color: #FFFF48' onclick='toggleDiv(\"line9\")'> 9:                 if np.abs(z) &lt;= 10:</pre>\n",
        "<pre id='line9' class='code' style='background-color: #FFFF48'>        __pyx_t_10 = <span class='pyx_c_api'>__Pyx_GetModuleGlobalName</span>(__pyx_n_s_np);<span class='error_goto'> if (unlikely(!__pyx_t_10)) {__pyx_filename = __pyx_f[0]; __pyx_lineno = 9; __pyx_clineno = __LINE__; goto __pyx_L1_error;}</span>\n",
        "        <span class='refnanny'>__Pyx_GOTREF</span>(__pyx_t_10);\n",
        "        __pyx_t_5 = <span class='pyx_c_api'>__Pyx_PyObject_GetAttrStr</span>(__pyx_t_10, __pyx_n_s_abs);<span class='error_goto'> if (unlikely(!__pyx_t_5)) {__pyx_filename = __pyx_f[0]; __pyx_lineno = 9; __pyx_clineno = __LINE__; goto __pyx_L1_error;}</span>\n",
        "        <span class='refnanny'>__Pyx_GOTREF</span>(__pyx_t_5);\n",
        "        <span class='pyx_macro_api'>__Pyx_DECREF</span>(__pyx_t_10); __pyx_t_10 = 0;\n",
        "        __pyx_t_10 = <span class='py_c_api'>PyTuple_New</span>(1);<span class='error_goto'> if (unlikely(!__pyx_t_10)) {__pyx_filename = __pyx_f[0]; __pyx_lineno = 9; __pyx_clineno = __LINE__; goto __pyx_L1_error;}</span>\n",
        "        <span class='refnanny'>__Pyx_GOTREF</span>(__pyx_t_10);\n",
        "        <span class='pyx_macro_api'>__Pyx_INCREF</span>(__pyx_v_z);\n",
        "        <span class='py_macro_api'>PyTuple_SET_ITEM</span>(__pyx_t_10, 0, __pyx_v_z);\n",
        "        <span class='refnanny'>__Pyx_GIVEREF</span>(__pyx_v_z);\n",
        "        __pyx_t_8 = <span class='pyx_c_api'>__Pyx_PyObject_Call</span>(__pyx_t_5, __pyx_t_10, NULL);<span class='error_goto'> if (unlikely(!__pyx_t_8)) {__pyx_filename = __pyx_f[0]; __pyx_lineno = 9; __pyx_clineno = __LINE__; goto __pyx_L1_error;}</span>\n",
        "        <span class='refnanny'>__Pyx_GOTREF</span>(__pyx_t_8);\n",
        "        <span class='pyx_macro_api'>__Pyx_DECREF</span>(__pyx_t_5); __pyx_t_5 = 0;\n",
        "        <span class='pyx_macro_api'>__Pyx_DECREF</span>(__pyx_t_10); __pyx_t_10 = 0;\n",
        "        __pyx_t_10 = <span class='py_c_api'>PyObject_RichCompare</span>(__pyx_t_8, __pyx_int_10, Py_LE); <span class='refnanny'>__Pyx_XGOTREF</span>(__pyx_t_10);<span class='error_goto'> if (unlikely(!__pyx_t_10)) {__pyx_filename = __pyx_f[0]; __pyx_lineno = 9; __pyx_clineno = __LINE__; goto __pyx_L1_error;}</span>\n",
        "        <span class='pyx_macro_api'>__Pyx_DECREF</span>(__pyx_t_8); __pyx_t_8 = 0;\n",
        "        __pyx_t_13 = <span class='pyx_c_api'>__Pyx_PyObject_IsTrue</span>(__pyx_t_10);<span class='error_goto'> if (unlikely(__pyx_t_13 &lt; 0)) {__pyx_filename = __pyx_f[0]; __pyx_lineno = 9; __pyx_clineno = __LINE__; goto __pyx_L1_error;}</span>\n",
        "        <span class='pyx_macro_api'>__Pyx_DECREF</span>(__pyx_t_10); __pyx_t_10 = 0;\n",
        "        if (__pyx_t_13) {\n",
        "</pre><pre class='line' style='background-color: #FFFF73' onclick='toggleDiv(\"line10\")'> 10:                     z = z*z + c</pre>\n",
        "<pre id='line10' class='code' style='background-color: #FFFF73'>          __pyx_t_10 = <span class='py_c_api'>PyNumber_Multiply</span>(__pyx_v_z, __pyx_v_z);<span class='error_goto'> if (unlikely(!__pyx_t_10)) {__pyx_filename = __pyx_f[0]; __pyx_lineno = 10; __pyx_clineno = __LINE__; goto __pyx_L1_error;}</span>\n",
        "          <span class='refnanny'>__Pyx_GOTREF</span>(__pyx_t_10);\n",
        "          __pyx_t_8 = <span class='py_c_api'>PyNumber_Add</span>(__pyx_t_10, __pyx_v_c);<span class='error_goto'> if (unlikely(!__pyx_t_8)) {__pyx_filename = __pyx_f[0]; __pyx_lineno = 10; __pyx_clineno = __LINE__; goto __pyx_L1_error;}</span>\n",
        "          <span class='refnanny'>__Pyx_GOTREF</span>(__pyx_t_8);\n",
        "          <span class='pyx_macro_api'>__Pyx_DECREF</span>(__pyx_t_10); __pyx_t_10 = 0;\n",
        "          <span class='pyx_macro_api'>__Pyx_DECREF_SET</span>(__pyx_v_z, __pyx_t_8);\n",
        "          __pyx_t_8 = 0;\n",
        "</pre><pre class='line' style='background-color: #FFFF66' onclick='toggleDiv(\"line11\")'> 11:                     m[i, j] = n</pre>\n",
        "<pre id='line11' class='code' style='background-color: #FFFF66'>          __pyx_t_8 = <span class='py_c_api'>PyTuple_New</span>(2);<span class='error_goto'> if (unlikely(!__pyx_t_8)) {__pyx_filename = __pyx_f[0]; __pyx_lineno = 11; __pyx_clineno = __LINE__; goto __pyx_L1_error;}</span>\n",
        "          <span class='refnanny'>__Pyx_GOTREF</span>(__pyx_t_8);\n",
        "          <span class='pyx_macro_api'>__Pyx_INCREF</span>(__pyx_v_i);\n",
        "          <span class='py_macro_api'>PyTuple_SET_ITEM</span>(__pyx_t_8, 0, __pyx_v_i);\n",
        "          <span class='refnanny'>__Pyx_GIVEREF</span>(__pyx_v_i);\n",
        "          <span class='pyx_macro_api'>__Pyx_INCREF</span>(__pyx_v_j);\n",
        "          <span class='py_macro_api'>PyTuple_SET_ITEM</span>(__pyx_t_8, 1, __pyx_v_j);\n",
        "          <span class='refnanny'>__Pyx_GIVEREF</span>(__pyx_v_j);\n",
        "          if (unlikely(<span class='py_c_api'>PyObject_SetItem</span>(__pyx_v_m, __pyx_t_8, __pyx_v_n) &lt; 0)) <span class='error_goto'>{__pyx_filename = __pyx_f[0]; __pyx_lineno = 11; __pyx_clineno = __LINE__; goto __pyx_L1_error;}</span>\n",
        "          <span class='pyx_macro_api'>__Pyx_DECREF</span>(__pyx_t_8); __pyx_t_8 = 0;\n",
        "          goto __pyx_L9;\n",
        "        }\n",
        "        /*else*/ {\n",
        "</pre><pre class='line' style='background-color: #FFFFff' onclick='toggleDiv(\"line12\")'> 12:                 else:</pre>\n",
        "<pre id='line12' class='code' style='background-color: #FFFFff'></pre><pre class='line' style='background-color: #FFFFc4' onclick='toggleDiv(\"line13\")'> 13:                     break</pre>\n",
        "<pre id='line13' class='code' style='background-color: #FFFFc4'>          goto __pyx_L8_break;\n",
        "        }\n",
        "        __pyx_L9:;\n",
        "      }\n",
        "      __pyx_L8_break:;\n",
        "      <span class='pyx_macro_api'>__Pyx_DECREF</span>(__pyx_t_9); __pyx_t_9 = 0;\n",
        "    }\n",
        "    <span class='pyx_macro_api'>__Pyx_DECREF</span>(__pyx_t_2); __pyx_t_2 = 0;\n",
        "  }\n",
        "  <span class='pyx_macro_api'>__Pyx_DECREF</span>(__pyx_t_1); __pyx_t_1 = 0;\n",
        "</pre></body></html>"
       ],
       "metadata": {},
       "output_type": "pyout",
       "prompt_number": 8,
       "text": [
        "<IPython.core.display.HTML object>"
       ]
      }
     ],
     "prompt_number": 8
    },
    {
     "cell_type": "code",
     "collapsed": false,
     "input": [
      "%%timeit -n1 -r1 m = np.zeros((size, size), dtype=np.int32)\n",
      "mandelbrot_cython(m, size, iterations)"
     ],
     "language": "python",
     "metadata": {
      "internals": {
       "frag_helper": "fragment_end",
       "frag_number": 7,
       "slide_type": "subslide"
      },
      "slideshow": {
       "slide_type": "subslide"
      }
     },
     "outputs": [
      {
       "output_type": "stream",
       "stream": "stdout",
       "text": [
        "1 loops, best of 1: 1.78 s per loop\n"
       ]
      }
     ],
     "prompt_number": 9
    },
    {
     "cell_type": "markdown",
     "metadata": {
      "internals": {
       "frag_helper": "fragment_end",
       "frag_number": 7,
       "slide_helper": "subslide_end"
      },
      "slide_helper": "subslide_end",
      "slideshow": {
       "slide_type": "-"
      }
     },
     "source": [
      "Virtually no speedup."
     ]
    },
    {
     "cell_type": "markdown",
     "metadata": {
      "internals": {
       "frag_helper": "fragment_end",
       "frag_number": 7,
       "slide_type": "subslide"
      },
      "slideshow": {
       "slide_type": "subslide"
      }
     },
     "source": [
      "### Take 2"
     ]
    },
    {
     "cell_type": "markdown",
     "metadata": {
      "internals": {
       "frag_helper": "fragment_end",
       "frag_number": 7,
       "slide_helper": "subslide_end"
      },
      "slide_helper": "subslide_end",
      "slideshow": {
       "slide_type": "-"
      }
     },
     "source": [
      "Now, we add type information, using memory views for NumPy arrays."
     ]
    },
    {
     "cell_type": "code",
     "collapsed": false,
     "input": [
      "%%cython -a\n",
      "import numpy as np\n",
      "\n",
      "def mandelbrot_cython(int[:,::1] m, \n",
      "                      int size, \n",
      "                      int iterations):\n",
      "    cdef int i, j, n\n",
      "    cdef complex z, c\n",
      "    for i in range(size):\n",
      "        for j in range(size):\n",
      "            c = -2 + 3./size*j + 1j*(1.5-3./size*i)\n",
      "            z = 0\n",
      "            for n in range(iterations):\n",
      "                if z.real**2 + z.imag**2 <= 100:\n",
      "                    z = z*z + c\n",
      "                    m[i, j] = n\n",
      "                else:\n",
      "                    break"
     ],
     "language": "python",
     "metadata": {
      "internals": {
       "frag_helper": "fragment_end",
       "frag_number": 7,
       "slide_helper": "subslide_end",
       "slide_type": "subslide"
      },
      "slide_helper": "subslide_end",
      "slideshow": {
       "slide_type": "subslide"
      }
     },
     "outputs": [
      {
       "html": [
        "<!DOCTYPE html>\n",
        "<!-- Generated by Cython 0.20.1post0 (Debian 0.20.1+git90-g0e6e38e-1ubuntu2) on Wed Nov 12 16:24:39 2014 -->\n",
        "<html>\n",
        "\n",
        "<head>\n",
        "<meta http-equiv=\"Content-Type\" content=\"text/html; charset=utf-8\" />\n",
        "<style type=\"text/css\">\n",
        "\n",
        "body { font-family: courier; font-size: 12; }\n",
        "\n",
        ".code  { font-size: 9; color: #444444; display: none; margin-left: 20px; }\n",
        ".py_c_api  { color: red; }\n",
        ".py_macro_api  { color: #FF7000; }\n",
        ".pyx_c_api  { color: #FF3000; }\n",
        ".pyx_macro_api  { color: #FF7000; }\n",
        ".refnanny  { color: #FFA000; }\n",
        "\n",
        ".error_goto  { color: #FFA000; }\n",
        "\n",
        ".tag  {  }\n",
        "\n",
        ".coerce  { color: #008000; border: 1px dotted #008000 }\n",
        "\n",
        ".py_attr { color: #FF0000; font-weight: bold; }\n",
        ".c_attr  { color: #0000FF; }\n",
        "\n",
        ".py_call { color: #FF0000; font-weight: bold; }\n",
        ".c_call  { color: #0000FF; }\n",
        "\n",
        ".line { margin: 0em }\n",
        "\n",
        "</style>\n",
        "<script>\n",
        "function toggleDiv(id) {\n",
        "    theDiv = document.getElementById(id);\n",
        "    if (theDiv.style.display != 'block') theDiv.style.display = 'block';\n",
        "    else theDiv.style.display = 'none';\n",
        "}\n",
        "</script>\n",
        "</head>\n",
        "        <body>\n",
        "<p>Generated by Cython 0.20.1post0 (Debian 0.20.1+git90-g0e6e38e-1ubuntu2) on Wed Nov 12 16:24:39 2014\n",
        "<pre class='line' style='background-color: #FFFF57' onclick='toggleDiv(\"line1\")'> 1: import numpy as np</pre>\n",
        "<pre id='line1' class='code' style='background-color: #FFFF57'>  __pyx_t_1 = <span class='pyx_c_api'>__Pyx_Import</span>(__pyx_n_s_numpy, 0, -1);<span class='error_goto'> if (unlikely(!__pyx_t_1)) {__pyx_filename = __pyx_f[0]; __pyx_lineno = 1; __pyx_clineno = __LINE__; goto __pyx_L1_error;}</span>\n",
        "  <span class='refnanny'>__Pyx_GOTREF</span>(__pyx_t_1);\n",
        "  if (<span class='py_c_api'>PyDict_SetItem</span>(__pyx_d, __pyx_n_s_np, __pyx_t_1) &lt; 0) <span class='error_goto'>{__pyx_filename = __pyx_f[0]; __pyx_lineno = 1; __pyx_clineno = __LINE__; goto __pyx_L1_error;}</span>\n",
        "  <span class='pyx_macro_api'>__Pyx_DECREF</span>(__pyx_t_1); __pyx_t_1 = 0;\n",
        "/* \u2026 */\n",
        "  __pyx_t_1 = <span class='py_c_api'>PyDict_New</span>();<span class='error_goto'> if (unlikely(!__pyx_t_1)) {__pyx_filename = __pyx_f[0]; __pyx_lineno = 1; __pyx_clineno = __LINE__; goto __pyx_L1_error;}</span>\n",
        "  <span class='refnanny'>__Pyx_GOTREF</span>(__pyx_t_1);\n",
        "  if (<span class='py_c_api'>PyDict_SetItem</span>(__pyx_d, __pyx_n_s_test, __pyx_t_1) &lt; 0) <span class='error_goto'>{__pyx_filename = __pyx_f[0]; __pyx_lineno = 1; __pyx_clineno = __LINE__; goto __pyx_L1_error;}</span>\n",
        "  <span class='pyx_macro_api'>__Pyx_DECREF</span>(__pyx_t_1); __pyx_t_1 = 0;\n",
        "</pre><pre class='line' style='background-color: #FFFFff' onclick='toggleDiv(\"line2\")'> 2: </pre>\n",
        "<pre id='line2' class='code' style='background-color: #FFFFff'></pre><pre class='line' style='background-color: #FFFF22' onclick='toggleDiv(\"line3\")'> 3: def mandelbrot_cython(int[:,::1] m,</pre>\n",
        "<pre id='line3' class='code' style='background-color: #FFFF22'>/* Python wrapper */\n",
        "static PyObject *__pyx_pw_46_cython_magic_40ab88654f24505611df9532abed5d8a_1mandelbrot_cython(PyObject *__pyx_self, PyObject *__pyx_args, PyObject *__pyx_kwds); /*proto*/\n",
        "static PyMethodDef __pyx_mdef_46_cython_magic_40ab88654f24505611df9532abed5d8a_1mandelbrot_cython = {<span class='pyx_macro_api'>__Pyx_NAMESTR</span>(\"mandelbrot_cython\"), (PyCFunction)__pyx_pw_46_cython_magic_40ab88654f24505611df9532abed5d8a_1mandelbrot_cython, METH_VARARGS|METH_KEYWORDS, <span class='pyx_macro_api'>__Pyx_DOCSTR</span>(0)};\n",
        "static PyObject *__pyx_pw_46_cython_magic_40ab88654f24505611df9532abed5d8a_1mandelbrot_cython(PyObject *__pyx_self, PyObject *__pyx_args, PyObject *__pyx_kwds) {\n",
        "  __Pyx_memviewslice __pyx_v_m = { 0, 0, { 0 }, { 0 }, { 0 } };\n",
        "  int __pyx_v_size;\n",
        "  int __pyx_v_iterations;\n",
        "  PyObject *__pyx_r = 0;\n",
        "  <span class='refnanny'>__Pyx_RefNannyDeclarations</span>\n",
        "  <span class='refnanny'>__Pyx_RefNannySetupContext</span>(\"mandelbrot_cython (wrapper)\", 0);\n",
        "  {\n",
        "    static PyObject **__pyx_pyargnames[] = {&amp;__pyx_n_s_m,&amp;__pyx_n_s_size,&amp;__pyx_n_s_iterations,0};\n",
        "    PyObject* values[3] = {0,0,0};\n",
        "    if (unlikely(__pyx_kwds)) {\n",
        "      Py_ssize_t kw_args;\n",
        "      const Py_ssize_t pos_args = <span class='py_macro_api'>PyTuple_GET_SIZE</span>(__pyx_args);\n",
        "      switch (pos_args) {\n",
        "        case  3: values[2] = <span class='py_macro_api'>PyTuple_GET_ITEM</span>(__pyx_args, 2);\n",
        "        case  2: values[1] = <span class='py_macro_api'>PyTuple_GET_ITEM</span>(__pyx_args, 1);\n",
        "        case  1: values[0] = <span class='py_macro_api'>PyTuple_GET_ITEM</span>(__pyx_args, 0);\n",
        "        case  0: break;\n",
        "        default: goto __pyx_L5_argtuple_error;\n",
        "      }\n",
        "      kw_args = <span class='py_c_api'>PyDict_Size</span>(__pyx_kwds);\n",
        "      switch (pos_args) {\n",
        "        case  0:\n",
        "        if (likely((values[0] = <span class='py_c_api'>PyDict_GetItem</span>(__pyx_kwds, __pyx_n_s_m)) != 0)) kw_args--;\n",
        "        else goto __pyx_L5_argtuple_error;\n",
        "        case  1:\n",
        "        if (likely((values[1] = <span class='py_c_api'>PyDict_GetItem</span>(__pyx_kwds, __pyx_n_s_size)) != 0)) kw_args--;\n",
        "        else {\n",
        "          <span class='pyx_c_api'>__Pyx_RaiseArgtupleInvalid</span>(\"mandelbrot_cython\", 1, 3, 3, 1); <span class='error_goto'>{__pyx_filename = __pyx_f[0]; __pyx_lineno = 3; __pyx_clineno = __LINE__; goto __pyx_L3_error;}</span>\n",
        "        }\n",
        "        case  2:\n",
        "        if (likely((values[2] = <span class='py_c_api'>PyDict_GetItem</span>(__pyx_kwds, __pyx_n_s_iterations)) != 0)) kw_args--;\n",
        "        else {\n",
        "          <span class='pyx_c_api'>__Pyx_RaiseArgtupleInvalid</span>(\"mandelbrot_cython\", 1, 3, 3, 2); <span class='error_goto'>{__pyx_filename = __pyx_f[0]; __pyx_lineno = 3; __pyx_clineno = __LINE__; goto __pyx_L3_error;}</span>\n",
        "        }\n",
        "      }\n",
        "      if (unlikely(kw_args &gt; 0)) {\n",
        "        if (unlikely(<span class='pyx_c_api'>__Pyx_ParseOptionalKeywords</span>(__pyx_kwds, __pyx_pyargnames, 0, values, pos_args, \"mandelbrot_cython\") &lt; 0)) <span class='error_goto'>{__pyx_filename = __pyx_f[0]; __pyx_lineno = 3; __pyx_clineno = __LINE__; goto __pyx_L3_error;}</span>\n",
        "      }\n",
        "    } else if (<span class='py_macro_api'>PyTuple_GET_SIZE</span>(__pyx_args) != 3) {\n",
        "      goto __pyx_L5_argtuple_error;\n",
        "    } else {\n",
        "      values[0] = <span class='py_macro_api'>PyTuple_GET_ITEM</span>(__pyx_args, 0);\n",
        "      values[1] = <span class='py_macro_api'>PyTuple_GET_ITEM</span>(__pyx_args, 1);\n",
        "      values[2] = <span class='py_macro_api'>PyTuple_GET_ITEM</span>(__pyx_args, 2);\n",
        "    }\n",
        "    __pyx_v_m = <span class='pyx_c_api'>__Pyx_PyObject_to_MemoryviewSlice_d_dc_int</span>(values[0]);<span class='error_goto'> if (unlikely(!__pyx_v_m.memview)) {__pyx_filename = __pyx_f[0]; __pyx_lineno = 3; __pyx_clineno = __LINE__; goto __pyx_L3_error;}</span>\n",
        "    __pyx_v_size = <span class='pyx_c_api'>__Pyx_PyInt_As_int</span>(values[1]);<span class='error_goto'> if (unlikely((__pyx_v_size == (int)-1) &amp;&amp; PyErr_Occurred())) {__pyx_filename = __pyx_f[0]; __pyx_lineno = 4; __pyx_clineno = __LINE__; goto __pyx_L3_error;}</span>\n",
        "    __pyx_v_iterations = <span class='pyx_c_api'>__Pyx_PyInt_As_int</span>(values[2]);<span class='error_goto'> if (unlikely((__pyx_v_iterations == (int)-1) &amp;&amp; PyErr_Occurred())) {__pyx_filename = __pyx_f[0]; __pyx_lineno = 5; __pyx_clineno = __LINE__; goto __pyx_L3_error;}</span>\n",
        "  }\n",
        "  goto __pyx_L4_argument_unpacking_done;\n",
        "  __pyx_L5_argtuple_error:;\n",
        "  <span class='pyx_c_api'>__Pyx_RaiseArgtupleInvalid</span>(\"mandelbrot_cython\", 1, 3, 3, <span class='py_macro_api'>PyTuple_GET_SIZE</span>(__pyx_args)); <span class='error_goto'>{__pyx_filename = __pyx_f[0]; __pyx_lineno = 3; __pyx_clineno = __LINE__; goto __pyx_L3_error;}</span>\n",
        "  __pyx_L3_error:;\n",
        "  <span class='pyx_c_api'>__Pyx_AddTraceback</span>(\"_cython_magic_40ab88654f24505611df9532abed5d8a.mandelbrot_cython\", __pyx_clineno, __pyx_lineno, __pyx_filename);\n",
        "  <span class='refnanny'>__Pyx_RefNannyFinishContext</span>();\n",
        "  return NULL;\n",
        "  __pyx_L4_argument_unpacking_done:;\n",
        "  __pyx_r = __pyx_pf_46_cython_magic_40ab88654f24505611df9532abed5d8a_mandelbrot_cython(__pyx_self, __pyx_v_m, __pyx_v_size, __pyx_v_iterations);\n",
        "  int __pyx_lineno = 0;\n",
        "  const char *__pyx_filename = NULL;\n",
        "  int __pyx_clineno = 0;\n",
        "\n",
        "  /* function exit code */\n",
        "  <span class='refnanny'>__Pyx_RefNannyFinishContext</span>();\n",
        "  return __pyx_r;\n",
        "}\n",
        "\n",
        "static PyObject *__pyx_pf_46_cython_magic_40ab88654f24505611df9532abed5d8a_mandelbrot_cython(CYTHON_UNUSED PyObject *__pyx_self, __Pyx_memviewslice __pyx_v_m, int __pyx_v_size, int __pyx_v_iterations) {\n",
        "  int __pyx_v_i;\n",
        "  int __pyx_v_j;\n",
        "  int __pyx_v_n;\n",
        "  __pyx_t_double_complex __pyx_v_z;\n",
        "  __pyx_t_double_complex __pyx_v_c;\n",
        "  PyObject *__pyx_r = NULL;\n",
        "  <span class='refnanny'>__Pyx_RefNannyDeclarations</span>\n",
        "  <span class='refnanny'>__Pyx_RefNannySetupContext</span>(\"mandelbrot_cython\", 0);\n",
        "/* \u2026 */\n",
        "  /* function exit code */\n",
        "  __pyx_r = Py_None; <span class='pyx_macro_api'>__Pyx_INCREF</span>(Py_None);\n",
        "  goto __pyx_L0;\n",
        "  __pyx_L1_error:;\n",
        "  <span class='pyx_c_api'>__Pyx_AddTraceback</span>(\"_cython_magic_40ab88654f24505611df9532abed5d8a.mandelbrot_cython\", __pyx_clineno, __pyx_lineno, __pyx_filename);\n",
        "  __pyx_r = NULL;\n",
        "  __pyx_L0:;\n",
        "  __PYX_XDEC_MEMVIEW(&amp;__pyx_v_m, 1);\n",
        "  <span class='refnanny'>__Pyx_XGIVEREF</span>(__pyx_r);\n",
        "  <span class='refnanny'>__Pyx_RefNannyFinishContext</span>();\n",
        "  return __pyx_r;\n",
        "}\n",
        "/* \u2026 */\n",
        "  __pyx_tuple__12 = <span class='py_c_api'>PyTuple_Pack</span>(8, __pyx_n_s_m, __pyx_n_s_size, __pyx_n_s_iterations, __pyx_n_s_i, __pyx_n_s_j, __pyx_n_s_n, __pyx_n_s_z, __pyx_n_s_c);<span class='error_goto'> if (unlikely(!__pyx_tuple__12)) {__pyx_filename = __pyx_f[0]; __pyx_lineno = 3; __pyx_clineno = __LINE__; goto __pyx_L1_error;}</span>\n",
        "  <span class='refnanny'>__Pyx_GOTREF</span>(__pyx_tuple__12);\n",
        "  <span class='refnanny'>__Pyx_GIVEREF</span>(__pyx_tuple__12);\n",
        "/* \u2026 */\n",
        "  __pyx_t_1 = PyCFunction_NewEx(&amp;__pyx_mdef_46_cython_magic_40ab88654f24505611df9532abed5d8a_1mandelbrot_cython, NULL, __pyx_n_s_cython_magic_40ab88654f24505611);<span class='error_goto'> if (unlikely(!__pyx_t_1)) {__pyx_filename = __pyx_f[0]; __pyx_lineno = 3; __pyx_clineno = __LINE__; goto __pyx_L1_error;}</span>\n",
        "  <span class='refnanny'>__Pyx_GOTREF</span>(__pyx_t_1);\n",
        "  if (<span class='py_c_api'>PyDict_SetItem</span>(__pyx_d, __pyx_n_s_mandelbrot_cython, __pyx_t_1) &lt; 0) <span class='error_goto'>{__pyx_filename = __pyx_f[0]; __pyx_lineno = 3; __pyx_clineno = __LINE__; goto __pyx_L1_error;}</span>\n",
        "  <span class='pyx_macro_api'>__Pyx_DECREF</span>(__pyx_t_1); __pyx_t_1 = 0;\n",
        "  __pyx_codeobj__13 = (PyObject*)<span class='pyx_c_api'>__Pyx_PyCode_New</span>(3, 0, 8, 0, 0, __pyx_empty_bytes, __pyx_empty_tuple, __pyx_empty_tuple, __pyx_tuple__12, __pyx_empty_tuple, __pyx_empty_tuple, __pyx_kp_s_root_cache_ipython_cython__cyth, __pyx_n_s_mandelbrot_cython, 3, __pyx_empty_bytes);<span class='error_goto'> if (unlikely(!__pyx_codeobj__13)) {__pyx_filename = __pyx_f[0]; __pyx_lineno = 3; __pyx_clineno = __LINE__; goto __pyx_L1_error;}</span>\n",
        "</pre><pre class='line' style='background-color: #FFFFff' onclick='toggleDiv(\"line4\")'> 4:                       int size,</pre>\n",
        "<pre id='line4' class='code' style='background-color: #FFFFff'></pre><pre class='line' style='background-color: #FFFFff' onclick='toggleDiv(\"line5\")'> 5:                       int iterations):</pre>\n",
        "<pre id='line5' class='code' style='background-color: #FFFFff'></pre><pre class='line' style='background-color: #FFFFff' onclick='toggleDiv(\"line6\")'> 6:     cdef int i, j, n</pre>\n",
        "<pre id='line6' class='code' style='background-color: #FFFFff'></pre><pre class='line' style='background-color: #FFFFff' onclick='toggleDiv(\"line7\")'> 7:     cdef complex z, c</pre>\n",
        "<pre id='line7' class='code' style='background-color: #FFFFff'></pre><pre class='line' style='background-color: #FFFFff' onclick='toggleDiv(\"line8\")'> 8:     for i in range(size):</pre>\n",
        "<pre id='line8' class='code' style='background-color: #FFFFff'>  __pyx_t_1 = __pyx_v_size;\n",
        "  for (__pyx_t_2 = 0; __pyx_t_2 &lt; __pyx_t_1; __pyx_t_2+=1) {\n",
        "    __pyx_v_i = __pyx_t_2;\n",
        "</pre><pre class='line' style='background-color: #FFFFff' onclick='toggleDiv(\"line9\")'> 9:         for j in range(size):</pre>\n",
        "<pre id='line9' class='code' style='background-color: #FFFFff'>    __pyx_t_3 = __pyx_v_size;\n",
        "    for (__pyx_t_4 = 0; __pyx_t_4 &lt; __pyx_t_3; __pyx_t_4+=1) {\n",
        "      __pyx_v_j = __pyx_t_4;\n",
        "</pre><pre class='line' style='background-color: #FFFF7f' onclick='toggleDiv(\"line10\")'> 10:             c = -2 + 3./size*j + 1j*(1.5-3./size*i)</pre>\n",
        "<pre id='line10' class='code' style='background-color: #FFFF7f'>      if (unlikely(__pyx_v_size == 0)) {\n",
        "        #ifdef WITH_THREAD\n",
        "        PyGILState_STATE __pyx_gilstate_save = PyGILState_Ensure();\n",
        "        #endif\n",
        "        <span class='py_c_api'>PyErr_SetString</span>(PyExc_ZeroDivisionError, \"float division\");\n",
        "        #ifdef WITH_THREAD\n",
        "        PyGILState_Release(__pyx_gilstate_save);\n",
        "        #endif\n",
        "        <span class='error_goto'>{__pyx_filename = __pyx_f[0]; __pyx_lineno = 10; __pyx_clineno = __LINE__; goto __pyx_L1_error;}</span>\n",
        "      }\n",
        "      if (unlikely(__pyx_v_size == 0)) {\n",
        "        #ifdef WITH_THREAD\n",
        "        PyGILState_STATE __pyx_gilstate_save = PyGILState_Ensure();\n",
        "        #endif\n",
        "        <span class='py_c_api'>PyErr_SetString</span>(PyExc_ZeroDivisionError, \"float division\");\n",
        "        #ifdef WITH_THREAD\n",
        "        PyGILState_Release(__pyx_gilstate_save);\n",
        "        #endif\n",
        "        <span class='error_goto'>{__pyx_filename = __pyx_f[0]; __pyx_lineno = 10; __pyx_clineno = __LINE__; goto __pyx_L1_error;}</span>\n",
        "      }\n",
        "      __pyx_v_c = __Pyx_c_sum(__pyx_t_double_complex_from_parts((-2.0 + ((3. / __pyx_v_size) * __pyx_v_j)), 0), __Pyx_c_prod(__pyx_t_double_complex_from_parts(0, 1.0), __pyx_t_double_complex_from_parts((1.5 - ((3. / __pyx_v_size) * __pyx_v_i)), 0)));\n",
        "</pre><pre class='line' style='background-color: #FFFFff' onclick='toggleDiv(\"line11\")'> 11:             z = 0</pre>\n",
        "<pre id='line11' class='code' style='background-color: #FFFFff'>      __pyx_v_z = __pyx_t_double_complex_from_parts(0, 0);\n",
        "</pre><pre class='line' style='background-color: #FFFFff' onclick='toggleDiv(\"line12\")'> 12:             for n in range(iterations):</pre>\n",
        "<pre id='line12' class='code' style='background-color: #FFFFff'>      __pyx_t_5 = __pyx_v_iterations;\n",
        "      for (__pyx_t_6 = 0; __pyx_t_6 &lt; __pyx_t_5; __pyx_t_6+=1) {\n",
        "        __pyx_v_n = __pyx_t_6;\n",
        "</pre><pre class='line' style='background-color: #FFFFd4' onclick='toggleDiv(\"line13\")'> 13:                 if z.real**2 + z.imag**2 &lt;= 100:</pre>\n",
        "<pre id='line13' class='code' style='background-color: #FFFFd4'>        __pyx_t_7 = (((pow(<span class='pyx_macro_api'>__Pyx_CREAL</span>(__pyx_v_z), 2.0) + pow(<span class='pyx_macro_api'>__Pyx_CIMAG</span>(__pyx_v_z), 2.0)) &lt;= 100.0) != 0);\n",
        "        if (__pyx_t_7) {\n",
        "</pre><pre class='line' style='background-color: #FFFFff' onclick='toggleDiv(\"line14\")'> 14:                     z = z*z + c</pre>\n",
        "<pre id='line14' class='code' style='background-color: #FFFFff'>          __pyx_v_z = __Pyx_c_sum(__Pyx_c_prod(__pyx_v_z, __pyx_v_z), __pyx_v_c);\n",
        "</pre><pre class='line' style='background-color: #FFFFd4' onclick='toggleDiv(\"line15\")'> 15:                     m[i, j] = n</pre>\n",
        "<pre id='line15' class='code' style='background-color: #FFFFd4'>          __pyx_t_8 = __pyx_v_i;\n",
        "          __pyx_t_9 = __pyx_v_j;\n",
        "          __pyx_t_10 = -1;\n",
        "          if (__pyx_t_8 &lt; 0) {\n",
        "            __pyx_t_8 += __pyx_v_m.shape[0];\n",
        "            if (unlikely(__pyx_t_8 &lt; 0)) __pyx_t_10 = 0;\n",
        "          } else if (unlikely(__pyx_t_8 &gt;= __pyx_v_m.shape[0])) __pyx_t_10 = 0;\n",
        "          if (__pyx_t_9 &lt; 0) {\n",
        "            __pyx_t_9 += __pyx_v_m.shape[1];\n",
        "            if (unlikely(__pyx_t_9 &lt; 0)) __pyx_t_10 = 1;\n",
        "          } else if (unlikely(__pyx_t_9 &gt;= __pyx_v_m.shape[1])) __pyx_t_10 = 1;\n",
        "          if (unlikely(__pyx_t_10 != -1)) {\n",
        "            <span class='pyx_c_api'>__Pyx_RaiseBufferIndexError</span>(__pyx_t_10);\n",
        "            <span class='error_goto'>{__pyx_filename = __pyx_f[0]; __pyx_lineno = 15; __pyx_clineno = __LINE__; goto __pyx_L1_error;}</span>\n",
        "          }\n",
        "          *((int *) ( /* dim=1 */ ((char *) (((int *) ( /* dim=0 */ (__pyx_v_m.data + __pyx_t_8 * __pyx_v_m.strides[0]) )) + __pyx_t_9)) )) = __pyx_v_n;\n",
        "          goto __pyx_L9;\n",
        "        }\n",
        "        /*else*/ {\n",
        "</pre><pre class='line' style='background-color: #FFFFff' onclick='toggleDiv(\"line16\")'> 16:                 else:</pre>\n",
        "<pre id='line16' class='code' style='background-color: #FFFFff'></pre><pre class='line' style='background-color: #FFFFff' onclick='toggleDiv(\"line17\")'> 17:                     break</pre>\n",
        "<pre id='line17' class='code' style='background-color: #FFFFff'>          goto __pyx_L8_break;\n",
        "        }\n",
        "        __pyx_L9:;\n",
        "      }\n",
        "      __pyx_L8_break:;\n",
        "    }\n",
        "  }\n",
        "</pre></body></html>"
       ],
       "metadata": {},
       "output_type": "pyout",
       "prompt_number": 10,
       "text": [
        "<IPython.core.display.HTML object>"
       ]
      }
     ],
     "prompt_number": 10
    },
    {
     "cell_type": "code",
     "collapsed": false,
     "input": [
      "%%timeit -n1 -r1 m = np.zeros((size, size), dtype=np.int32)\n",
      "mandelbrot_cython(m, size, iterations)"
     ],
     "language": "python",
     "metadata": {
      "internals": {
       "frag_helper": "fragment_end",
       "frag_number": 7,
       "slide_type": "subslide"
      },
      "slideshow": {
       "slide_type": "subslide"
      }
     },
     "outputs": [
      {
       "output_type": "stream",
       "stream": "stdout",
       "text": [
        "1 loops, best of 1: 3.64 ms per loop\n"
       ]
      }
     ],
     "prompt_number": 11
    },
    {
     "cell_type": "markdown",
     "metadata": {
      "internals": {
       "frag_helper": "fragment_end",
       "frag_number": 7
      },
      "slideshow": {
       "slide_type": "-"
      }
     },
     "source": [
      "Interesting speedup!"
     ]
    },
    {
     "cell_type": "markdown",
     "metadata": {
      "internals": {
       "frag_helper": "fragment_end",
       "frag_number": 7,
       "slide_helper": "subslide_end"
      },
      "slide_helper": "slide_end",
      "slideshow": {
       "slide_type": "notes"
      }
     },
     "source": [
      "> You'll find all the explanations, figures, references, and much more in the book (to be released later this summer).\n",
      "\n",
      "> [IPython Cookbook](http://ipython-books.github.io/), by [Cyrille Rossant](http://cyrille.rossant.net), Packt Publishing, 2014 (500 pages)."
     ]
    },
    {
     "cell_type": "heading",
     "level": 2,
     "metadata": {
      "internals": {
       "frag_helper": "fragment_end",
       "frag_number": 7,
       "slide_helper": "subslide_end",
       "slide_type": "subslide"
      },
      "slide_helper": "subslide_end",
      "slideshow": {
       "slide_type": "slide"
      }
     },
     "source": [
      "Learn more!"
     ]
    },
    {
     "cell_type": "markdown",
     "metadata": {
      "internals": {
       "frag_helper": "fragment_end",
       "frag_number": 7,
       "slide_helper": "subslide_end",
       "slide_type": "subslide"
      },
      "slide_helper": "slide_end",
      "slideshow": {
       "slide_type": "subslide"
      }
     },
     "source": [
      "* [Cython Sphinx Documentation](http://docs.cython.org/)\n",
      "* [Cython Wiki](https://github.com/cython/cython/wiki)\n",
      "* [SciPy Conference Cython Tutorial](http://conference.scipy.org/scipy2013/tutorial_detail.php?id=105)"
     ]
    }
   ],
   "metadata": {}
  }
 ]
}