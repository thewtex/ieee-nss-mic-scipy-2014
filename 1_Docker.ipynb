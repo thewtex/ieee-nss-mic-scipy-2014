{
 "metadata": {
  "name": "",
  "signature": "sha256:4c1fd2b8d28f5f12a20ba68ae1f619406b15c773b0ff45b19d38abd3c6a6f134"
 },
 "nbformat": 3,
 "nbformat_minor": 0,
 "worksheets": []
}